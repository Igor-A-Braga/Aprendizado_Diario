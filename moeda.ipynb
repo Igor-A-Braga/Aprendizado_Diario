import random



class Moeda:
    def __init__(self,rare=False,clean=True,heads=True,**kwargs):


        for key,valor in kwargs.items():
            setattr(self,key,valor)
       
        
        self.is_rare=rare
        self.is_clean=clean
        self.heads=heads

        if self.is_rare:
            self.valor=self.original_valor*1.25
        else:
            self.valor=self.original_valor


        if self.is_clean:
            self.cor=self.clean_cor
        else:
            self.cor=self.rusty_cor

    def rust(self):
        self.cor=self.rusty_cor
        
    def clean(self):
        self.cor=self.clean_cor
    
    
    
    def __del__(self):
        print("moeda gasta!")
    
    def flip(self):
        
        heads_options=[True,False]
        choice=random.choice(heads_options)
        self.heads=choice

    def __str__(self):
        if self.original_valor>=1:
            return"${}Coin".format(int(self.original_valor))
        else:
            return"{}Moeda".format(int(self.original_valor*100))
        

class Um_centavo(Moeda):
    def __init__(self):
        data={
            "original_valor":0.01,
            "clean_cor":"bronze",
            "rusty_cor":"castanho",
            "num_borda":1,
            "diametro":20.3,
            "espessura":1.52,
            "massa":3.56
            }
        super().__init__(**data)
            

class Dois_centavos(Moeda):
    def __init__(self):
        data={
            "original_valor":0.02,
            "clean_cor":"bronze",
            "rusty_cor":"castanho",
            "num_borda":1,
            "diametro":25.9,
            "espessura":1.85,
            "massa":7.12,
            }
        super().__init__(**data)



class Cinco_centavos(Moeda):
    def __init__(self):
        data={
            "original_valor":0.05,
            "clean_cor":"silver",
            "rusty_cor":None,
            "num_borda":1,
            "diametro":18.0,
            "espessura":1.77,
            "massa":3.25,
            }
        super().__init__(**data)

        def rust(self):
            self_cor=self.clean_cor

        def clean(self):
            self.cor=self.clean_cor
            
class Dez_centavos(Moeda):
    def __init__(self):
        data={
            "original_valor":0.10,
            "clean_cor":"silver",
            "rusty_cor":None,
            "num_borda":1,
            "diametro":24.5,
            "espessura":1.85,
            "massa":6.50,
            }
        super().__init__(**data)


        def rust(self):
            self_cor=self.clean_cor

        def clean(self):
            self.cor=self.clean_cor



class Vinte_centavos(Moeda):
    def __init__(self):
        data={
            "original_valor":0.20,
            "clean_cor":"silver",
            "rusty_cor":None,
            "num_borda":7,
            "diametro":21.4,
            "espessura":1.7,
            "massa":5.0,
            }
        super().__init__(**data)


        def rust(self):
            self_cor=self.clean_cor

        def clean(self):
            self.cor=self.clean_cor

class Cinquenta_centavos(Moeda):
    def __init__(self):
        data={
            "original_valor":0.50,
            "clean_cor":"silver",
            "rusty_cor":None,
            "num_borda":7,
            "diametro":27.3,
            "espessura":1.78,
            "massa":8.0,
            }
        super().__init__(**data)


        def rust(self):
            self_cor=self.clean_cor

        def clean(self):
            self.cor=self.clean_cor


class Uma_Libra(Moeda):
    def __init__(self):
        data={
            "original_valor":1.00,
            "clean_cor":"Ouro",
            "rusty_cor":"Verde",
            "num_borda":1,
            "diametro":22.5,
            "espessura":3.15,
            "massa":9.50,
            }
        super().__init__(**data)




class Duas_Libras(Moeda):
    def __init__(self):
        data={
            "original_valor":2.00,
            "clean_cor":"Ouro &Prata",
            "rusty_cor":"Verde",
            "num_borda":1,
            "diametro":28.4,
            "espessura":2.50,
            "massa":12.0,
            }
        super().__init__(**data)





moedas=[Um_centavo(),Dois_centavos(),Cinco_centavos(),Dez_centavos(),Vinte_centavos(),
          Cinquenta_centavos(),Uma_Libra(),Duas_Libras()]

for moeda in moedas:
    argumentos=[moeda,moeda.cor,moeda.valor,moeda.diametro,moeda.espessura,moeda.num_borda,
                moeda.massa]

    string = "{} - Cor : {},valor:{},diametro(mm):{},grossura(mm):{},numero de bordas:{},massa(g):{}".format(*argumentos)
    print(string)       
            
            
            


  

   
        

    
        

        

