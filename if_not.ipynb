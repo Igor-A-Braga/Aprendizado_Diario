Python 3.8.0 (tags/v3.8.0:fa919fd, Oct 14 2019, 19:37:50) [MSC v.1916 64 bit (AMD64)] on win32
Type "help", "copyright", "credits" or "license()" for more information.
>>> C=75
>>> D=85
>>> if C> 23 or D >= 85:
	print("""isso é trabalho de um operador "logico" chamado "OR" """)

	
isso é trabalho de um operador "logico" chamado "OR" 
>>> if C<70 or D==85:
	print(""" ISSO ainda será trabalho de operador logico chamado '' OR'' """)

	
 ISSO ainda será trabalho de operador logico chamado '' OR'' 
>>> if(C<70 or D=<70:
   
SyntaxError: invalid syntax
>>> if C<70 or D<=70:
	print(""" ISSO AQUI NÃO PODE PELO AMOR, ""SAIR UM CODIGO"" """)

	
>>> if not (C<2 or D<5):
	print(" ELE FEZ DE NOVO , ele vai aparecer ")

	
 ELE FEZ DE NOVO , ele vai aparecer 
>>> C=6
>>> D=2
>>> if (C>5 and D>5) or (C>1 and D>1):
	print("it worked")

	
it worked
>>> if C>5 and D>5 or C>1 and D>1:
	print("it worked")

	
it worked
>>> if (C>5 and D>1) or (C>1 and D>1):
	print("it worked")

	
it worked
>>> if (C>5 and D>5) or (C<1 and D>1):
	print("it worked")

	
>>> if (C>5 and D>5) or (C<1 and D>1):
	print("it worked")

	
>>> if (C<5 and D<5) or (C>1 and D>1):
	print("it worked")

	
it worked
>>> if (C>5 and D>1) or (C<1 and D<1):
	print("it worked")

	
it worked
>>> False or True
True
>>> True or False
True
>>> if (C>5 and D>1) or (C<1 and D<1):
	print("it worked")

	
it worked
>>> True or True
True
>>> False or False
False
>>> if (C>5 and D>1) or (C<1 and D<1):
	print("it worked")

	
it worked
>>> if not((C>5 and D>1) or (C<1 and D<1)):
	print("it worked")

	
>>> if not((C<5 and D<1) or (C<1 and D<1)):
	print("it worked")

	
it worked
>>> 
