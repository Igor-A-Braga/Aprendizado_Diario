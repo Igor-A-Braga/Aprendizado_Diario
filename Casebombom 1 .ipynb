{
 "cells": [
  {
   "cell_type": "markdown",
   "metadata": {},
   "source": [
    "Importando Biblioteca Pandas e Numpy.\n",
    "\n",
    "Importando Seaborn e Matplotlib"
   ]
  },
  {
   "cell_type": "code",
   "execution_count": 1,
   "metadata": {},
   "outputs": [],
   "source": [
    "import pandas as pd\n",
    "import numpy as np\n",
    "import seaborn as sns\n",
    "import matplotlib.pyplot as plt\n",
    "sns.set_style('whitegrid')"
   ]
  },
  {
   "cell_type": "markdown",
   "metadata": {},
   "source": [
    "Carregando Dados."
   ]
  },
  {
   "cell_type": "code",
   "execution_count": 2,
   "metadata": {},
   "outputs": [],
   "source": [
    "dataframe1 = pd.read_excel('registros-prod.xlsx')\n"
   ]
  },
  {
   "cell_type": "markdown",
   "metadata": {},
   "source": [
    "Visualizando DataFrame."
   ]
  },
  {
   "cell_type": "code",
   "execution_count": 3,
   "metadata": {},
   "outputs": [
    {
     "data": {
      "text/html": [
       "<div>\n",
       "<style scoped>\n",
       "    .dataframe tbody tr th:only-of-type {\n",
       "        vertical-align: middle;\n",
       "    }\n",
       "\n",
       "    .dataframe tbody tr th {\n",
       "        vertical-align: top;\n",
       "    }\n",
       "\n",
       "    .dataframe thead th {\n",
       "        text-align: right;\n",
       "    }\n",
       "</style>\n",
       "<table border=\"1\" class=\"dataframe\">\n",
       "  <thead>\n",
       "    <tr style=\"text-align: right;\">\n",
       "      <th></th>\n",
       "      <th>QTD_CHOC</th>\n",
       "      <th>VAR_1</th>\n",
       "      <th>VAR_2</th>\n",
       "      <th>PESO_BOMBOM</th>\n",
       "    </tr>\n",
       "  </thead>\n",
       "  <tbody>\n",
       "    <tr>\n",
       "      <th>0</th>\n",
       "      <td>320.15</td>\n",
       "      <td>0.88</td>\n",
       "      <td>A</td>\n",
       "      <td>10.144919</td>\n",
       "    </tr>\n",
       "    <tr>\n",
       "      <th>1</th>\n",
       "      <td>320.14</td>\n",
       "      <td>1.55</td>\n",
       "      <td>A</td>\n",
       "      <td>11.547027</td>\n",
       "    </tr>\n",
       "    <tr>\n",
       "      <th>2</th>\n",
       "      <td>284.85</td>\n",
       "      <td>2.97</td>\n",
       "      <td>A</td>\n",
       "      <td>11.112109</td>\n",
       "    </tr>\n",
       "    <tr>\n",
       "      <th>3</th>\n",
       "      <td>263.92</td>\n",
       "      <td>2.36</td>\n",
       "      <td>C</td>\n",
       "      <td>9.900123</td>\n",
       "    </tr>\n",
       "    <tr>\n",
       "      <th>4</th>\n",
       "      <td>276.22</td>\n",
       "      <td>2.98</td>\n",
       "      <td>C</td>\n",
       "      <td>10.079822</td>\n",
       "    </tr>\n",
       "  </tbody>\n",
       "</table>\n",
       "</div>"
      ],
      "text/plain": [
       "   QTD_CHOC  VAR_1 VAR_2  PESO_BOMBOM\n",
       "0    320.15   0.88     A    10.144919\n",
       "1    320.14   1.55     A    11.547027\n",
       "2    284.85   2.97     A    11.112109\n",
       "3    263.92   2.36     C     9.900123\n",
       "4    276.22   2.98     C    10.079822"
      ]
     },
     "execution_count": 3,
     "metadata": {},
     "output_type": "execute_result"
    }
   ],
   "source": [
    "dataframe1.head()"
   ]
  },
  {
   "cell_type": "markdown",
   "metadata": {},
   "source": [
    "Visualizando algumas informações sobre o DataFrame."
   ]
  },
  {
   "cell_type": "code",
   "execution_count": 4,
   "metadata": {},
   "outputs": [
    {
     "name": "stdout",
     "output_type": "stream",
     "text": [
      "<class 'pandas.core.frame.DataFrame'>\n",
      "RangeIndex: 500 entries, 0 to 499\n",
      "Data columns (total 4 columns):\n",
      " #   Column       Non-Null Count  Dtype  \n",
      "---  ------       --------------  -----  \n",
      " 0   QTD_CHOC     500 non-null    float64\n",
      " 1   VAR_1        500 non-null    float64\n",
      " 2   VAR_2        500 non-null    object \n",
      " 3   PESO_BOMBOM  500 non-null    float64\n",
      "dtypes: float64(3), object(1)\n",
      "memory usage: 15.8+ KB\n"
     ]
    }
   ],
   "source": [
    "dataframe1.info()"
   ]
  },
  {
   "cell_type": "markdown",
   "metadata": {},
   "source": [
    "Nosso Dataframe não possui valores nulos."
   ]
  },
  {
   "cell_type": "code",
   "execution_count": 5,
   "metadata": {},
   "outputs": [
    {
     "data": {
      "text/plain": [
       "QTD_CHOC       0\n",
       "VAR_1          0\n",
       "VAR_2          0\n",
       "PESO_BOMBOM    0\n",
       "dtype: int64"
      ]
     },
     "execution_count": 5,
     "metadata": {},
     "output_type": "execute_result"
    }
   ],
   "source": [
    "dataframe1.isnull().sum()"
   ]
  },
  {
   "cell_type": "markdown",
   "metadata": {},
   "source": [
    "Nosso DataFrame não possui dados duplicados."
   ]
  },
  {
   "cell_type": "code",
   "execution_count": 6,
   "metadata": {},
   "outputs": [
    {
     "data": {
      "text/plain": [
       "0"
      ]
     },
     "execution_count": 6,
     "metadata": {},
     "output_type": "execute_result"
    }
   ],
   "source": [
    "dataframe1.duplicated().sum()"
   ]
  },
  {
   "cell_type": "markdown",
   "metadata": {},
   "source": [
    "Usando a funcão Dercribe para visualizar informações mais detalhadas."
   ]
  },
  {
   "cell_type": "code",
   "execution_count": 7,
   "metadata": {},
   "outputs": [
    {
     "data": {
      "text/html": [
       "<div>\n",
       "<style scoped>\n",
       "    .dataframe tbody tr th:only-of-type {\n",
       "        vertical-align: middle;\n",
       "    }\n",
       "\n",
       "    .dataframe tbody tr th {\n",
       "        vertical-align: top;\n",
       "    }\n",
       "\n",
       "    .dataframe thead th {\n",
       "        text-align: right;\n",
       "    }\n",
       "</style>\n",
       "<table border=\"1\" class=\"dataframe\">\n",
       "  <thead>\n",
       "    <tr style=\"text-align: right;\">\n",
       "      <th></th>\n",
       "      <th>QTD_CHOC</th>\n",
       "      <th>VAR_1</th>\n",
       "      <th>VAR_2</th>\n",
       "      <th>PESO_BOMBOM</th>\n",
       "    </tr>\n",
       "  </thead>\n",
       "  <tbody>\n",
       "    <tr>\n",
       "      <th>count</th>\n",
       "      <td>500.000000</td>\n",
       "      <td>500.000000</td>\n",
       "      <td>500</td>\n",
       "      <td>500.000000</td>\n",
       "    </tr>\n",
       "    <tr>\n",
       "      <th>unique</th>\n",
       "      <td>NaN</td>\n",
       "      <td>NaN</td>\n",
       "      <td>3</td>\n",
       "      <td>NaN</td>\n",
       "    </tr>\n",
       "    <tr>\n",
       "      <th>top</th>\n",
       "      <td>NaN</td>\n",
       "      <td>NaN</td>\n",
       "      <td>C</td>\n",
       "      <td>NaN</td>\n",
       "    </tr>\n",
       "    <tr>\n",
       "      <th>freq</th>\n",
       "      <td>NaN</td>\n",
       "      <td>NaN</td>\n",
       "      <td>177</td>\n",
       "      <td>NaN</td>\n",
       "    </tr>\n",
       "    <tr>\n",
       "      <th>mean</th>\n",
       "      <td>291.264600</td>\n",
       "      <td>2.098180</td>\n",
       "      <td>NaN</td>\n",
       "      <td>10.395002</td>\n",
       "    </tr>\n",
       "    <tr>\n",
       "      <th>std</th>\n",
       "      <td>45.182499</td>\n",
       "      <td>0.711166</td>\n",
       "      <td>NaN</td>\n",
       "      <td>1.572233</td>\n",
       "    </tr>\n",
       "    <tr>\n",
       "      <th>min</th>\n",
       "      <td>112.910000</td>\n",
       "      <td>0.050000</td>\n",
       "      <td>NaN</td>\n",
       "      <td>4.543124</td>\n",
       "    </tr>\n",
       "    <tr>\n",
       "      <th>25%</th>\n",
       "      <td>259.267500</td>\n",
       "      <td>1.630000</td>\n",
       "      <td>NaN</td>\n",
       "      <td>9.425819</td>\n",
       "    </tr>\n",
       "    <tr>\n",
       "      <th>50%</th>\n",
       "      <td>295.450000</td>\n",
       "      <td>2.300000</td>\n",
       "      <td>NaN</td>\n",
       "      <td>10.334273</td>\n",
       "    </tr>\n",
       "    <tr>\n",
       "      <th>75%</th>\n",
       "      <td>325.137500</td>\n",
       "      <td>2.672500</td>\n",
       "      <td>NaN</td>\n",
       "      <td>11.379932</td>\n",
       "    </tr>\n",
       "    <tr>\n",
       "      <th>max</th>\n",
       "      <td>436.070000</td>\n",
       "      <td>2.980000</td>\n",
       "      <td>NaN</td>\n",
       "      <td>17.362728</td>\n",
       "    </tr>\n",
       "  </tbody>\n",
       "</table>\n",
       "</div>"
      ],
      "text/plain": [
       "          QTD_CHOC       VAR_1 VAR_2  PESO_BOMBOM\n",
       "count   500.000000  500.000000   500   500.000000\n",
       "unique         NaN         NaN     3          NaN\n",
       "top            NaN         NaN     C          NaN\n",
       "freq           NaN         NaN   177          NaN\n",
       "mean    291.264600    2.098180   NaN    10.395002\n",
       "std      45.182499    0.711166   NaN     1.572233\n",
       "min     112.910000    0.050000   NaN     4.543124\n",
       "25%     259.267500    1.630000   NaN     9.425819\n",
       "50%     295.450000    2.300000   NaN    10.334273\n",
       "75%     325.137500    2.672500   NaN    11.379932\n",
       "max     436.070000    2.980000   NaN    17.362728"
      ]
     },
     "execution_count": 7,
     "metadata": {},
     "output_type": "execute_result"
    }
   ],
   "source": [
    "dataframe1.describe(include='all')"
   ]
  },
  {
   "cell_type": "code",
   "execution_count": 8,
   "metadata": {},
   "outputs": [
    {
     "data": {
      "text/html": [
       "<div>\n",
       "<style scoped>\n",
       "    .dataframe tbody tr th:only-of-type {\n",
       "        vertical-align: middle;\n",
       "    }\n",
       "\n",
       "    .dataframe tbody tr th {\n",
       "        vertical-align: top;\n",
       "    }\n",
       "\n",
       "    .dataframe thead th {\n",
       "        text-align: right;\n",
       "    }\n",
       "</style>\n",
       "<table border=\"1\" class=\"dataframe\">\n",
       "  <thead>\n",
       "    <tr style=\"text-align: right;\">\n",
       "      <th></th>\n",
       "      <th>QTD_CHOC</th>\n",
       "      <th>VAR_1</th>\n",
       "      <th>PESO_BOMBOM</th>\n",
       "    </tr>\n",
       "  </thead>\n",
       "  <tbody>\n",
       "    <tr>\n",
       "      <th>count</th>\n",
       "      <td>500.000000</td>\n",
       "      <td>500.000000</td>\n",
       "      <td>500.000000</td>\n",
       "    </tr>\n",
       "    <tr>\n",
       "      <th>mean</th>\n",
       "      <td>291.264600</td>\n",
       "      <td>2.098180</td>\n",
       "      <td>10.395002</td>\n",
       "    </tr>\n",
       "    <tr>\n",
       "      <th>std</th>\n",
       "      <td>45.182499</td>\n",
       "      <td>0.711166</td>\n",
       "      <td>1.572233</td>\n",
       "    </tr>\n",
       "    <tr>\n",
       "      <th>min</th>\n",
       "      <td>112.910000</td>\n",
       "      <td>0.050000</td>\n",
       "      <td>4.543124</td>\n",
       "    </tr>\n",
       "    <tr>\n",
       "      <th>25%</th>\n",
       "      <td>259.267500</td>\n",
       "      <td>1.630000</td>\n",
       "      <td>9.425819</td>\n",
       "    </tr>\n",
       "    <tr>\n",
       "      <th>50%</th>\n",
       "      <td>295.450000</td>\n",
       "      <td>2.300000</td>\n",
       "      <td>10.334273</td>\n",
       "    </tr>\n",
       "    <tr>\n",
       "      <th>75%</th>\n",
       "      <td>325.137500</td>\n",
       "      <td>2.672500</td>\n",
       "      <td>11.379932</td>\n",
       "    </tr>\n",
       "    <tr>\n",
       "      <th>max</th>\n",
       "      <td>436.070000</td>\n",
       "      <td>2.980000</td>\n",
       "      <td>17.362728</td>\n",
       "    </tr>\n",
       "  </tbody>\n",
       "</table>\n",
       "</div>"
      ],
      "text/plain": [
       "         QTD_CHOC       VAR_1  PESO_BOMBOM\n",
       "count  500.000000  500.000000   500.000000\n",
       "mean   291.264600    2.098180    10.395002\n",
       "std     45.182499    0.711166     1.572233\n",
       "min    112.910000    0.050000     4.543124\n",
       "25%    259.267500    1.630000     9.425819\n",
       "50%    295.450000    2.300000    10.334273\n",
       "75%    325.137500    2.672500    11.379932\n",
       "max    436.070000    2.980000    17.362728"
      ]
     },
     "execution_count": 8,
     "metadata": {},
     "output_type": "execute_result"
    }
   ],
   "source": [
    "dataframe1.describe()"
   ]
  },
  {
   "cell_type": "markdown",
   "metadata": {},
   "source": [
    "--------"
   ]
  },
  {
   "cell_type": "markdown",
   "metadata": {},
   "source": [
    "ANALISE DESCRITIVA\n",
    "\n",
    "Aqui nesta seção iremos analisar caracteristicas descritivas dos dados, como: \n",
    "\n",
    " - Média\n",
    " - Mediana\n",
    " - Desvio Padrão\n",
    " - Plotar Gráficos com Matplotlib e Seaborn\n",
    " - Correlações\n",
    " - Existencia de dados faltantes, dados errados e dados repetidos\n",
    " - Identificação de Outliers e iremos pensar em como trata-los caso existam"
   ]
  },
  {
   "cell_type": "markdown",
   "metadata": {},
   "source": [
    "----"
   ]
  },
  {
   "cell_type": "code",
   "execution_count": 9,
   "metadata": {},
   "outputs": [
    {
     "data": {
      "text/html": [
       "<div>\n",
       "<style scoped>\n",
       "    .dataframe tbody tr th:only-of-type {\n",
       "        vertical-align: middle;\n",
       "    }\n",
       "\n",
       "    .dataframe tbody tr th {\n",
       "        vertical-align: top;\n",
       "    }\n",
       "\n",
       "    .dataframe thead th {\n",
       "        text-align: right;\n",
       "    }\n",
       "</style>\n",
       "<table border=\"1\" class=\"dataframe\">\n",
       "  <thead>\n",
       "    <tr style=\"text-align: right;\">\n",
       "      <th></th>\n",
       "      <th>QTD_CHOC</th>\n",
       "      <th>VAR_1</th>\n",
       "      <th>VAR_2</th>\n",
       "      <th>PESO_BOMBOM</th>\n",
       "    </tr>\n",
       "  </thead>\n",
       "  <tbody>\n",
       "    <tr>\n",
       "      <th>0</th>\n",
       "      <td>320.15</td>\n",
       "      <td>0.88</td>\n",
       "      <td>A</td>\n",
       "      <td>10.144919</td>\n",
       "    </tr>\n",
       "    <tr>\n",
       "      <th>1</th>\n",
       "      <td>320.14</td>\n",
       "      <td>1.55</td>\n",
       "      <td>A</td>\n",
       "      <td>11.547027</td>\n",
       "    </tr>\n",
       "    <tr>\n",
       "      <th>2</th>\n",
       "      <td>284.85</td>\n",
       "      <td>2.97</td>\n",
       "      <td>A</td>\n",
       "      <td>11.112109</td>\n",
       "    </tr>\n",
       "    <tr>\n",
       "      <th>3</th>\n",
       "      <td>263.92</td>\n",
       "      <td>2.36</td>\n",
       "      <td>C</td>\n",
       "      <td>9.900123</td>\n",
       "    </tr>\n",
       "    <tr>\n",
       "      <th>4</th>\n",
       "      <td>276.22</td>\n",
       "      <td>2.98</td>\n",
       "      <td>C</td>\n",
       "      <td>10.079822</td>\n",
       "    </tr>\n",
       "    <tr>\n",
       "      <th>...</th>\n",
       "      <td>...</td>\n",
       "      <td>...</td>\n",
       "      <td>...</td>\n",
       "      <td>...</td>\n",
       "    </tr>\n",
       "    <tr>\n",
       "      <th>495</th>\n",
       "      <td>301.01</td>\n",
       "      <td>1.59</td>\n",
       "      <td>A</td>\n",
       "      <td>10.471494</td>\n",
       "    </tr>\n",
       "    <tr>\n",
       "      <th>496</th>\n",
       "      <td>331.41</td>\n",
       "      <td>2.60</td>\n",
       "      <td>A</td>\n",
       "      <td>12.048504</td>\n",
       "    </tr>\n",
       "    <tr>\n",
       "      <th>497</th>\n",
       "      <td>311.08</td>\n",
       "      <td>0.38</td>\n",
       "      <td>C</td>\n",
       "      <td>6.128060</td>\n",
       "    </tr>\n",
       "    <tr>\n",
       "      <th>498</th>\n",
       "      <td>315.56</td>\n",
       "      <td>1.89</td>\n",
       "      <td>B</td>\n",
       "      <td>9.198321</td>\n",
       "    </tr>\n",
       "    <tr>\n",
       "      <th>499</th>\n",
       "      <td>309.30</td>\n",
       "      <td>2.91</td>\n",
       "      <td>A</td>\n",
       "      <td>12.686713</td>\n",
       "    </tr>\n",
       "  </tbody>\n",
       "</table>\n",
       "<p>500 rows × 4 columns</p>\n",
       "</div>"
      ],
      "text/plain": [
       "     QTD_CHOC  VAR_1 VAR_2  PESO_BOMBOM\n",
       "0      320.15   0.88     A    10.144919\n",
       "1      320.14   1.55     A    11.547027\n",
       "2      284.85   2.97     A    11.112109\n",
       "3      263.92   2.36     C     9.900123\n",
       "4      276.22   2.98     C    10.079822\n",
       "..        ...    ...   ...          ...\n",
       "495    301.01   1.59     A    10.471494\n",
       "496    331.41   2.60     A    12.048504\n",
       "497    311.08   0.38     C     6.128060\n",
       "498    315.56   1.89     B     9.198321\n",
       "499    309.30   2.91     A    12.686713\n",
       "\n",
       "[500 rows x 4 columns]"
      ]
     },
     "execution_count": 9,
     "metadata": {},
     "output_type": "execute_result"
    }
   ],
   "source": [
    "dataframe1"
   ]
  },
  {
   "cell_type": "markdown",
   "metadata": {},
   "source": [
    "Analisando colunas e identificando quais são os tipos de variaveis. \n",
    "\n"
   ]
  },
  {
   "cell_type": "markdown",
   "metadata": {},
   "source": [
    "* QTD_CHOC = numerica discreta  \n",
    "\n",
    "* VAR1 = numerica discreta\n",
    "\n",
    "* VAR2 = Categorica Nominal\n",
    "\n",
    "* PESO_BOMBOM = numerica continua\n",
    "\n",
    "* FORMULA = Categorica nominal\n",
    "\n",
    "* PESO_IDEAL = Categorica nominal\n",
    "\n",
    "* MEDIA_QTD_CHOC = Categorica nominal"
   ]
  },
  {
   "cell_type": "markdown",
   "metadata": {},
   "source": [
    "-----"
   ]
  },
  {
   "cell_type": "markdown",
   "metadata": {},
   "source": [
    "Observações \n",
    "* Não possuimos dados nulos, nem dados duplicados. \n",
    "* Observando os resultados obtidos pela função describle, não temos outliers.(Mas irei fazer mais algumas analise para concluir)\n",
    "* Como são poucas variaveis, irei realizar alguns testes individuais mesclando as possibilidades para descobrir padrões.\n"
   ]
  },
  {
   "cell_type": "markdown",
   "metadata": {},
   "source": [
    "-----"
   ]
  },
  {
   "cell_type": "markdown",
   "metadata": {},
   "source": [
    "Usando scatterplot conseguimos visualizar que relacionando a variavel VAR_1 e PESO_BOMBOM (Sendo o ideal 10g) conseguimos ver um grande foco na região de valor 3.0."
   ]
  },
  {
   "cell_type": "code",
   "execution_count": 10,
   "metadata": {},
   "outputs": [
    {
     "data": {
      "image/png": "[encoded data removed]",
      "text/plain": [
       "<Figure size 640x480 with 1 Axes>"
      ]
     },
     "metadata": {},
     "output_type": "display_data"
    }
   ],
   "source": [
    "graf = sns.scatterplot(dataframe1, x= 'VAR_1', y='PESO_BOMBOM')\n",
    "plt.show(graf)"
   ]
  },
  {
   "cell_type": "markdown",
   "metadata": {},
   "source": [
    "---------\n"
   ]
  },
  {
   "cell_type": "markdown",
   "metadata": {},
   "source": [
    "\n",
    "\n",
    "O processo de produção mal mapeado pode ser responsavel por levar a industria a ter mal faturamentos e quedas no mercado.\n",
    "\n",
    "Quanto mais mapeado estão os procedimentos internos, formulas e treinamentos  mais alto é o nivel de desempenho desta industria.\n",
    "\n",
    "Observando os dados, minha tese inicial é que a chave para um resultado de precisão vai envolver todas as colunas.\n",
    "\n",
    "Vamos analisar profundamente cada variavel.\n",
    "\n",
    "Analisando VAR_1.\n",
    "\n",
    "Conseguimos observar que ela percorre por 3 casas de unidade. Realizei uma divisão entre elas criando uma coluna nomeada 'FORMULA'. Separando-as em 3 partes \n",
    "* Menor que 1.0 = Basica.\n",
    "* Maior ou igual a 1.01 = Especial.\n",
    "* Maior ou igual a 2.01 = Avançada.\n",
    "\n",
    "Possuir um bom formulador e seguir no detalhe recomendações das formulas, garante muito a precisão do produto final a ser produzido.\n",
    " \n",
    "Se ja existe, podemos nos aprofundar em uma proxima call. Se não existe, a ideia central deste assunto ja pode ficar em aberto para um possivel trabalho a ser feito.\n"
   ]
  },
  {
   "cell_type": "markdown",
   "metadata": {},
   "source": [
    "------"
   ]
  },
  {
   "cell_type": "markdown",
   "metadata": {},
   "source": [
    "Como passo inicial, Irei criar algumas colunas para fazer testes futuramente. Atribuindo a estas colunas faixas / medias dos valores oficiais. \n"
   ]
  },
  {
   "cell_type": "markdown",
   "metadata": {},
   "source": [
    "---"
   ]
  },
  {
   "cell_type": "markdown",
   "metadata": {},
   "source": [
    "Transformando coluna VAR_1 em uma coluna com caixas de cageroias, nomeada = Formula."
   ]
  },
  {
   "cell_type": "code",
   "execution_count": 11,
   "metadata": {},
   "outputs": [],
   "source": [
    "dataframe1.loc[dataframe1['VAR_1']<1.00,'FORMULA']='basic'\n",
    "dataframe1.loc[dataframe1['VAR_1']>=1.01,'FORMULA']='special'\n",
    "dataframe1.loc[dataframe1['VAR_1']>=2.01,'FORMULA']='advanced'"
   ]
  },
  {
   "cell_type": "markdown",
   "metadata": {},
   "source": [
    "----"
   ]
  },
  {
   "cell_type": "markdown",
   "metadata": {},
   "source": [
    "Irei criar uma coluna com o nome de 'MEDIA_QTD_CHOC' com a função de mostrar a margem de chocolate utilizada.\n",
    "\n",
    "Alem de nos mostrar a quantidade de chocolate utilizada naquele lote, conseguimos interpretar qual a variabilidade no processo.\n",
    "\n",
    "A partir deste feito, conseguimos olhar com mais precisão para as colunas e decidir quais são as variaveis com mais relevantes a se trabalhar."
   ]
  },
  {
   "cell_type": "code",
   "execution_count": 12,
   "metadata": {},
   "outputs": [],
   "source": [
    "dataframe1.loc[dataframe1['QTD_CHOC']<150,'MEDIA_QTD_CHOC']='M100'\n",
    "dataframe1.loc[dataframe1['QTD_CHOC']>=151,'MEDIA_QTD_CHOC']='M150'\n",
    "dataframe1.loc[dataframe1['QTD_CHOC']>=201,'MEDIA_QTD_CHOC']='M200'\n",
    "dataframe1.loc[dataframe1['QTD_CHOC']>=251,'MEDIA_QTD_CHOC']='M250'\n",
    "dataframe1.loc[dataframe1['QTD_CHOC']>=301,'MEDIA_QTD_CHOC']='M300'\n",
    "dataframe1.loc[dataframe1['QTD_CHOC']>=351,'MEDIA_QTD_CHOC']='M350'\n",
    "dataframe1.loc[dataframe1['QTD_CHOC']>=401,'MEDIA_QTD_CHOC']='M400'\n",
    "\n"
   ]
  },
  {
   "cell_type": "markdown",
   "metadata": {},
   "source": [
    "-----"
   ]
  },
  {
   "cell_type": "markdown",
   "metadata": {},
   "source": [
    "Tendo em vista que o principal problema que a industria enfrenta é a variabilidade no processo.\n",
    "\n",
    "Irei criar uma coluna com o nome de 'PESO_IDEAL' com a função de mostrar o status final do peso do bombom.\n",
    "\n",
    "A partir deste feito, conseguimos olhar com mais precisão para as colunas e decidir quais são as variaveis com mais relevantes a se trabalhar."
   ]
  },
  {
   "cell_type": "code",
   "execution_count": 13,
   "metadata": {},
   "outputs": [],
   "source": [
    "dataframe1.loc[dataframe1['PESO_BOMBOM']<10.1,'PESO_IDEAL']='approved by QC'\n",
    "dataframe1.loc[dataframe1['PESO_BOMBOM']>=9.90,'PESO_IDEAL']='approved by QC'\n",
    "dataframe1.loc[dataframe1['PESO_BOMBOM']<9.90,'PESO_IDEAL']='rejected by QC'\n",
    "dataframe1.loc[dataframe1['PESO_BOMBOM']>10.0,'PESO_IDEAL']='changed final value'"
   ]
  },
  {
   "cell_type": "markdown",
   "metadata": {},
   "source": [
    "Irei demonstrar graficamente agora as 2 variaveis classificadas\n",
    "(FORMULA E PESO IDEAL)\n",
    "\n"
   ]
  },
  {
   "cell_type": "code",
   "execution_count": 14,
   "metadata": {},
   "outputs": [
    {
     "data": {
      "image/png": "[encoded data removed]",
      "text/plain": [
       "<Figure size 640x480 with 1 Axes>"
      ]
     },
     "metadata": {},
     "output_type": "display_data"
    }
   ],
   "source": [
    "fig1 = sns.countplot(dataframe1,x='FORMULA',hue='PESO_IDEAL')\n",
    "plt.show(fig1)"
   ]
  },
  {
   "cell_type": "code",
   "execution_count": 15,
   "metadata": {},
   "outputs": [
    {
     "name": "stdout",
     "output_type": "stream",
     "text": [
      "Usando a formulação avançada tivemos as seguintes resultados finais :\n",
      "PESO_IDEAL\n",
      "changed final value    68.0\n",
      "rejected by QC         28.0\n",
      "approved by QC          5.0\n",
      "Name: proportion, dtype: float64\n"
     ]
    }
   ],
   "source": [
    "Fadvan = round(dataframe1['PESO_IDEAL'][dataframe1['FORMULA']=='advanced'].value_counts(normalize=True).loc[:]*100)\n",
    "print(f\"Usando a formulação avançada tivemos as seguintes resultados finais :\\n{Fadvan}\")\n"
   ]
  },
  {
   "cell_type": "code",
   "execution_count": 16,
   "metadata": {},
   "outputs": [
    {
     "name": "stdout",
     "output_type": "stream",
     "text": [
      "Usando a formulação Special tivemos as seguintes resultados finais :\n",
      "PESO_IDEAL\n",
      "changed final value    50.0\n",
      "rejected by QC         47.0\n",
      "approved by QC          3.0\n",
      "Name: proportion, dtype: float64\n"
     ]
    }
   ],
   "source": [
    "Fspec = round(dataframe1['PESO_IDEAL'][dataframe1['FORMULA']=='special'].value_counts(normalize=True).loc[:]*100)\n",
    "print(f\"Usando a formulação Special tivemos as seguintes resultados finais :\\n{Fspec}\")"
   ]
  },
  {
   "cell_type": "code",
   "execution_count": 17,
   "metadata": {},
   "outputs": [
    {
     "name": "stdout",
     "output_type": "stream",
     "text": [
      "Usando a formulação Basic tivemos as seguintes resultados finais :\n",
      "PESO_IDEAL\n",
      "rejected by QC         63.0\n",
      "changed final value    35.0\n",
      "approved by QC          2.0\n",
      "Name: proportion, dtype: float64\n"
     ]
    }
   ],
   "source": [
    "Fbasic = round(dataframe1['PESO_IDEAL'][dataframe1['FORMULA']=='basic'].value_counts(normalize=True).loc[:]*100)\n",
    "print(f\"Usando a formulação Basic tivemos as seguintes resultados finais :\\n{Fbasic}\")"
   ]
  },
  {
   "cell_type": "markdown",
   "metadata": {},
   "source": [
    "Atraves desta analise conseguimos concluir que usando a formulação 'basica' o resultado foi o mais  negativo.\n",
    "\n",
    "Iremos observar de forma mais profunda os atributos de formulação 'special' e 'avançada'."
   ]
  },
  {
   "cell_type": "markdown",
   "metadata": {},
   "source": [
    "-----"
   ]
  },
  {
   "cell_type": "markdown",
   "metadata": {},
   "source": [
    "\n",
    "\n",
    "Irei inverter a ordem  das variaveis para descobrir qual a porcentagem de aprovação das  formulas quando o status é dado como 'Aprovado pelo CQ'.\n",
    "\n",
    "\n"
   ]
  },
  {
   "cell_type": "markdown",
   "metadata": {},
   "source": [
    "Graficamente isso nos confirma que a maior parte dos resultados 'aprovados pelo CQ' foram envolvendo a formula 'avançada'.\n",
    "\n",
    "Para concluirmos esta linha de raciocinio, irei trazer representações em porcentagem. "
   ]
  },
  {
   "cell_type": "code",
   "execution_count": 18,
   "metadata": {},
   "outputs": [
    {
     "data": {
      "image/png": "[encoded data removed]",
      "text/plain": [
       "<Figure size 640x480 with 1 Axes>"
      ]
     },
     "metadata": {},
     "output_type": "display_data"
    },
    {
     "name": "stdout",
     "output_type": "stream",
     "text": [
      "Em casos em que o status final do produto é dado como 'Aprovado pelo CQ'(processo rodando 100% programado!).\n",
      "Segue porcentagem de cada formulação.\n",
      "FORMULA\n",
      "advanced    75.0\n",
      "special     20.0\n",
      "basic        5.0\n",
      "Name: proportion, dtype: float64 \n"
     ]
    }
   ],
   "source": [
    "fig2 = sns.countplot(dataframe1,x='PESO_IDEAL',hue = 'FORMULA')\n",
    "plt.show(fig2)\n",
    "\n",
    "aprove2 = round(dataframe1['FORMULA'][dataframe1['PESO_IDEAL']=='approved by QC'].value_counts(normalize=True).loc[:]*100)\n",
    "print(f\"Em casos em que o status final do produto é dado como 'Aprovado pelo CQ'(processo rodando 100% programado!).\\nSegue porcentagem de cada formulação.\\n{aprove2} \")"
   ]
  },
  {
   "cell_type": "markdown",
   "metadata": {},
   "source": [
    "Concluimos que dentre esse raciocinio a formula com mais taxa de aprovação é a 'avançada'."
   ]
  },
  {
   "cell_type": "markdown",
   "metadata": {},
   "source": [
    "------"
   ]
  },
  {
   "cell_type": "markdown",
   "metadata": {},
   "source": [
    "Acionando 'VAR_2'com a coluna 'PESO_IDEAL'\n"
   ]
  },
  {
   "cell_type": "markdown",
   "metadata": {},
   "source": [
    "Conseguimos ver uma forte visualização para a opção(C) e (B)"
   ]
  },
  {
   "cell_type": "code",
   "execution_count": 19,
   "metadata": {},
   "outputs": [
    {
     "data": {
      "image/png": "[encoded data removed]",
      "text/plain": [
       "<Figure size 640x480 with 1 Axes>"
      ]
     },
     "metadata": {},
     "output_type": "display_data"
    }
   ],
   "source": [
    "graf_linha_var2 = sns.lineplot(data=dataframe1, x='VAR_2', y='PESO_BOMBOM',color = 'green')\n",
    "plt.show(graf_linha_var2)"
   ]
  },
  {
   "cell_type": "markdown",
   "metadata": {},
   "source": [
    "Irei desmonstrar graficamente as variaveis( VAR_2 e PESO_IDEAL) para conseguir me aprofundar  na analise."
   ]
  },
  {
   "cell_type": "code",
   "execution_count": 20,
   "metadata": {},
   "outputs": [
    {
     "data": {
      "image/png": "[encoded data removed]",
      "text/plain": [
       "<Figure size 640x480 with 1 Axes>"
      ]
     },
     "metadata": {},
     "output_type": "display_data"
    }
   ],
   "source": [
    "fig3 = sns.countplot(dataframe1,x='VAR_2',hue = 'PESO_IDEAL')\n",
    "plt.show(fig3)"
   ]
  },
  {
   "cell_type": "code",
   "execution_count": 21,
   "metadata": {},
   "outputs": [
    {
     "name": "stdout",
     "output_type": "stream",
     "text": [
      "Usando o atributo 'A' tivemos ao seguintes resultados finais em porcentagem =\n",
      "PESO_IDEAL\n",
      "changed final value    96.0\n",
      "rejected by QC          3.0\n",
      "approved by QC          1.0\n",
      "Name: proportion, dtype: float64\n"
     ]
    }
   ],
   "source": [
    "VAR_A = round(dataframe1['PESO_IDEAL'][dataframe1['VAR_2']=='A'].value_counts(normalize=True).loc[:]*100)\n",
    "print(f\"Usando o atributo 'A' tivemos ao seguintes resultados finais em porcentagem =\\n{VAR_A}\")"
   ]
  },
  {
   "cell_type": "code",
   "execution_count": 22,
   "metadata": {},
   "outputs": [
    {
     "name": "stdout",
     "output_type": "stream",
     "text": [
      "Usando o atributo 'B' tivemos ao seguintes resultados finais em porcentagem =\n",
      "PESO_IDEAL\n",
      "rejected by QC         59.0\n",
      "changed final value    36.0\n",
      "approved by QC          5.0\n",
      "Name: proportion, dtype: float64\n"
     ]
    }
   ],
   "source": [
    "VAR_B = round(dataframe1['PESO_IDEAL'][dataframe1['VAR_2']=='B'].value_counts(normalize=True).loc[:]*100)\n",
    "print(f\"Usando o atributo 'B' tivemos ao seguintes resultados finais em porcentagem =\\n{VAR_B}\")"
   ]
  },
  {
   "cell_type": "code",
   "execution_count": 23,
   "metadata": {},
   "outputs": [
    {
     "name": "stdout",
     "output_type": "stream",
     "text": [
      "Usando o atributo 'C' tivemos ao seguintes resultados finais em porcentagem =\n",
      "PESO_IDEAL\n",
      "changed final value    50.0\n",
      "rejected by QC         45.0\n",
      "approved by QC          6.0\n",
      "Name: proportion, dtype: float64\n"
     ]
    }
   ],
   "source": [
    "VAR_C = round(dataframe1['PESO_IDEAL'][dataframe1['VAR_2']=='C'].value_counts(normalize=True).loc[:]*100)\n",
    "print(f\"Usando o atributo 'C' tivemos ao seguintes resultados finais em porcentagem =\\n{VAR_C}\")"
   ]
  },
  {
   "cell_type": "markdown",
   "metadata": {},
   "source": [
    "Atraves desta analise conseguimos concluir que usando o atributo 'A', foi o resultado mais negativo.\n",
    "Iremos trabalhar agora em cima do atributo 'B' e 'C'."
   ]
  },
  {
   "cell_type": "markdown",
   "metadata": {},
   "source": [
    "---"
   ]
  },
  {
   "cell_type": "markdown",
   "metadata": {},
   "source": [
    "Irei inverter a ordem  das variaveis para descobrir qual a porcentagem de aprovação dos atributos da coluna VAR_2 quando o status é dado como 'Aprovado pelo CQ'.\n"
   ]
  },
  {
   "cell_type": "markdown",
   "metadata": {},
   "source": [
    "Graficamente isso nos confirma que a maior parte dos resultados 'aprovados pelo CQ' foram envolvendo  o atributo  'C'\n",
    "\n",
    "Para concluirmos esta linha de raciocinio, irei trazer representações em porcentagem. "
   ]
  },
  {
   "cell_type": "code",
   "execution_count": 24,
   "metadata": {},
   "outputs": [
    {
     "data": {
      "image/png": "[encoded data removed]",
      "text/plain": [
       "<Figure size 640x480 with 1 Axes>"
      ]
     },
     "metadata": {},
     "output_type": "display_data"
    },
    {
     "name": "stdout",
     "output_type": "stream",
     "text": [
      "Em casos em que o status final do produto é dado como 'Aprovado pelo CQ'(processo rodando 100% programado!).\n",
      "Segue porcentagem de cada atributo\n",
      "VAR_2\n",
      "C    50.0\n",
      "B    45.0\n",
      "A     5.0\n",
      "Name: proportion, dtype: float64 \n"
     ]
    }
   ],
   "source": [
    "fig4 = sns.countplot(dataframe1,x='PESO_IDEAL',hue = 'VAR_2')\n",
    "plt.show(fig4)\n",
    "\n",
    "aprove3 = round(dataframe1['VAR_2'][dataframe1['PESO_IDEAL']=='approved by QC'].value_counts(normalize=True).loc[:]*100)\n",
    "print(f\"Em casos em que o status final do produto é dado como 'Aprovado pelo CQ'(processo rodando 100% programado!).\\nSegue porcentagem de cada atributo\\n{aprove3} \")"
   ]
  },
  {
   "cell_type": "markdown",
   "metadata": {},
   "source": [
    "----"
   ]
  },
  {
   "cell_type": "markdown",
   "metadata": {},
   "source": [
    "Até o momento o que mais fortalece esta tese inicial é que a formulação 'avançada' combinada com o atributo 'C'da VAR_2 .\n",
    "\n",
    "Leva até um resultado mais integro e esperado."
   ]
  },
  {
   "cell_type": "markdown",
   "metadata": {},
   "source": [
    "------"
   ]
  },
  {
   "cell_type": "markdown",
   "metadata": {},
   "source": [
    "Irei vincular em um grafico a coluna 'MEDIA_QTD_CHOC' para termos base de qual a media que mais aparenta levar ao resultado seguro e consequentemente testarmos.\n"
   ]
  },
  {
   "cell_type": "code",
   "execution_count": 25,
   "metadata": {},
   "outputs": [
    {
     "data": {
      "image/png": "[encoded data removed]",
      "text/plain": [
       "<Figure size 1640.99x500 with 3 Axes>"
      ]
     },
     "metadata": {},
     "output_type": "display_data"
    }
   ],
   "source": [
    "fig5 = sns.displot(dataframe1, x='FORMULA',hue='MEDIA_QTD_CHOC',col='VAR_2',rug=True, kde= True)\n",
    "plt.show(fig5)"
   ]
  },
  {
   "cell_type": "markdown",
   "metadata": {},
   "source": [
    "Faixa de 301 a 350 visualmente é a que mais se destaca, irei ver em relação a porcentagem.\n"
   ]
  },
  {
   "cell_type": "code",
   "execution_count": 26,
   "metadata": {},
   "outputs": [
    {
     "data": {
      "image/png": "[encoded data removed]",
      "text/plain": [
       "<Figure size 640x480 with 1 Axes>"
      ]
     },
     "metadata": {},
     "output_type": "display_data"
    }
   ],
   "source": [
    "fig6 = sns.countplot(dataframe1,x='MEDIA_QTD_CHOC',hue = 'PESO_IDEAL')\n",
    "plt.show(fig6)"
   ]
  },
  {
   "cell_type": "code",
   "execution_count": 27,
   "metadata": {},
   "outputs": [
    {
     "name": "stdout",
     "output_type": "stream",
     "text": [
      "Usando o atributo 'DE 100 A 150' tivemos ao seguintes resultados finais em porcentagem =\n",
      "PESO_IDEAL\n",
      "rejected by QC    100.0\n",
      "Name: proportion, dtype: float64\n"
     ]
    }
   ],
   "source": [
    "FAIXA1 = round(dataframe1['PESO_IDEAL'][dataframe1['MEDIA_QTD_CHOC']=='M100'].value_counts(normalize=True).loc[:]*100)\n",
    "print(f\"Usando o atributo 'DE 100 A 150' tivemos ao seguintes resultados finais em porcentagem =\\n{FAIXA1}\")"
   ]
  },
  {
   "cell_type": "code",
   "execution_count": 28,
   "metadata": {},
   "outputs": [
    {
     "name": "stdout",
     "output_type": "stream",
     "text": [
      "Usando o atributo 'DE 151 A 200' tivemos ao seguintes resultados finais em porcentagem =\n",
      "PESO_IDEAL\n",
      "rejected by QC         75.0\n",
      "changed final value    17.0\n",
      "approved by QC          8.0\n",
      "Name: proportion, dtype: float64\n"
     ]
    }
   ],
   "source": [
    "FAIXA2 = round(dataframe1['PESO_IDEAL'][dataframe1['MEDIA_QTD_CHOC']=='M150'].value_counts(normalize=True).loc[:]*100)\n",
    "print(f\"Usando o atributo 'DE 151 A 200' tivemos ao seguintes resultados finais em porcentagem =\\n{FAIXA2}\")"
   ]
  },
  {
   "cell_type": "code",
   "execution_count": 29,
   "metadata": {},
   "outputs": [
    {
     "name": "stdout",
     "output_type": "stream",
     "text": [
      "Usando o atributo 'DE 201 A 250' tivemos ao seguintes resultados finais em porcentagem =\n",
      "PESO_IDEAL\n",
      "rejected by QC         63.0\n",
      "changed final value    33.0\n",
      "approved by QC          4.0\n",
      "Name: proportion, dtype: float64\n"
     ]
    }
   ],
   "source": [
    "FAIXA3 = round(dataframe1['PESO_IDEAL'][dataframe1['MEDIA_QTD_CHOC']=='M200'].value_counts(normalize=True).loc[:]*100)\n",
    "print(f\"Usando o atributo 'DE 201 A 250' tivemos ao seguintes resultados finais em porcentagem =\\n{FAIXA3}\")"
   ]
  },
  {
   "cell_type": "code",
   "execution_count": 30,
   "metadata": {},
   "outputs": [
    {
     "name": "stdout",
     "output_type": "stream",
     "text": [
      "Usando o atributo 'DE 251 A 300' tivemos ao seguintes resultados finais em porcentagem =\n",
      "PESO_IDEAL\n",
      "changed final value    51.0\n",
      "rejected by QC         44.0\n",
      "approved by QC          5.0\n",
      "Name: proportion, dtype: float64\n"
     ]
    }
   ],
   "source": [
    "FAIXA4 = round(dataframe1['PESO_IDEAL'][dataframe1['MEDIA_QTD_CHOC']=='M250'].value_counts(normalize=True).loc[:]*100)\n",
    "print(f\"Usando o atributo 'DE 251 A 300' tivemos ao seguintes resultados finais em porcentagem =\\n{FAIXA4}\")"
   ]
  },
  {
   "cell_type": "code",
   "execution_count": 31,
   "metadata": {},
   "outputs": [
    {
     "name": "stdout",
     "output_type": "stream",
     "text": [
      "Usando o atributo 'DE 301 A 350' tivemos ao seguintes resultados finais em porcentagem =\n",
      "PESO_IDEAL\n",
      "changed final value    80.0\n",
      "rejected by QC         18.0\n",
      "approved by QC          2.0\n",
      "Name: proportion, dtype: float64\n"
     ]
    }
   ],
   "source": [
    "FAIXA5 = round(dataframe1['PESO_IDEAL'][dataframe1['MEDIA_QTD_CHOC']=='M300'].value_counts(normalize=True).loc[:]*100)\n",
    "print(f\"Usando o atributo 'DE 301 A 350' tivemos ao seguintes resultados finais em porcentagem =\\n{FAIXA5}\")"
   ]
  },
  {
   "cell_type": "code",
   "execution_count": 32,
   "metadata": {},
   "outputs": [
    {
     "name": "stdout",
     "output_type": "stream",
     "text": [
      "Usando o atributo 'DE 351 A 400' tivemos ao seguintes resultados finais em porcentagem =\n",
      "PESO_IDEAL\n",
      "changed final value    84.0\n",
      "rejected by QC         12.0\n",
      "approved by QC          3.0\n",
      "Name: proportion, dtype: float64\n"
     ]
    }
   ],
   "source": [
    "FAIXA6 = round(dataframe1['PESO_IDEAL'][dataframe1['MEDIA_QTD_CHOC']=='M350'].value_counts(normalize=True).loc[:]*100)\n",
    "print(f\"Usando o atributo 'DE 351 A 400' tivemos ao seguintes resultados finais em porcentagem =\\n{FAIXA6}\")"
   ]
  },
  {
   "cell_type": "code",
   "execution_count": 33,
   "metadata": {},
   "outputs": [
    {
     "name": "stdout",
     "output_type": "stream",
     "text": [
      "Usando o atributo 'DE 401 A 450' tivemos ao seguintes resultados finais em porcentagem =\n",
      "PESO_IDEAL\n",
      "changed final value    75.0\n",
      "approved by QC         25.0\n",
      "Name: proportion, dtype: float64\n"
     ]
    }
   ],
   "source": [
    "FAIXA7 = round(dataframe1['PESO_IDEAL'][dataframe1['MEDIA_QTD_CHOC']=='M400'].value_counts(normalize=True).loc[:]*100)\n",
    "print(f\"Usando o atributo 'DE 401 A 450' tivemos ao seguintes resultados finais em porcentagem =\\n{FAIXA7}\")"
   ]
  },
  {
   "cell_type": "markdown",
   "metadata": {},
   "source": [
    "A seguir irei inverter a ordem das 2 variaveis (PESO_IDEAL) e (MEDIA_QTD_CHOC) para visualizar graficamente estas observações a seguir.\n"
   ]
  },
  {
   "cell_type": "code",
   "execution_count": 34,
   "metadata": {},
   "outputs": [
    {
     "data": {
      "image/png": "[encoded data removed]",
      "text/plain": [
       "<Figure size 640x480 with 1 Axes>"
      ]
     },
     "metadata": {},
     "output_type": "display_data"
    }
   ],
   "source": [
    "fig7 = sns.countplot(dataframe1,x='PESO_IDEAL',hue = 'MEDIA_QTD_CHOC')\n",
    "plt.show(fig7)"
   ]
  },
  {
   "cell_type": "markdown",
   "metadata": {},
   "source": [
    "O Atributo da coluna 'FAIXA_QTD_CHOC' que esta mais se destacando é o de 251 a 300 com 5% de aprovada.  porem a taxa de reprovado está em 44 %. \n",
    "\n",
    "Podemos visualizar atraves desta analise  que, quanto mais chocolate utilizamos, mais baixo é a taxa de reprovado pelo CQ.\n",
    "\n",
    "\n",
    "Como são poucos dados no atributo que nos trouxe 25 % de aprovados (400 a 450 ) não se torna uma verdade absoluta.\n",
    "\n",
    "Irei levar em consideração o atributo de 300 a 350 como maior potencial. Ja que M200 tem a taxa de rejeição muito alta.\n",
    "\n",
    "\n",
    "Incontestavelmente por diversas analises. Esta é uma coluna muito importante e a linha de acertivade no meu ponto de vista está focada para cada vez mais que vc usa chocolate menos rejeição pela qualidade se tem."
   ]
  },
  {
   "cell_type": "code",
   "execution_count": null,
   "metadata": {},
   "outputs": [],
   "source": []
  },
  {
   "cell_type": "markdown",
   "metadata": {},
   "source": [
    "-------"
   ]
  },
  {
   "cell_type": "markdown",
   "metadata": {},
   "source": [
    "--------"
   ]
  },
  {
   "cell_type": "markdown",
   "metadata": {},
   "source": [
    "-----"
   ]
  },
  {
   "cell_type": "code",
   "execution_count": 35,
   "metadata": {},
   "outputs": [
    {
     "data": {
      "text/html": [
       "<div>\n",
       "<style scoped>\n",
       "    .dataframe tbody tr th:only-of-type {\n",
       "        vertical-align: middle;\n",
       "    }\n",
       "\n",
       "    .dataframe tbody tr th {\n",
       "        vertical-align: top;\n",
       "    }\n",
       "\n",
       "    .dataframe thead th {\n",
       "        text-align: right;\n",
       "    }\n",
       "</style>\n",
       "<table border=\"1\" class=\"dataframe\">\n",
       "  <thead>\n",
       "    <tr style=\"text-align: right;\">\n",
       "      <th></th>\n",
       "      <th>QTD_CHOC</th>\n",
       "      <th>VAR_1</th>\n",
       "      <th>VAR_2</th>\n",
       "      <th>PESO_BOMBOM</th>\n",
       "      <th>FORMULA</th>\n",
       "      <th>MEDIA_QTD_CHOC</th>\n",
       "      <th>PESO_IDEAL</th>\n",
       "    </tr>\n",
       "  </thead>\n",
       "  <tbody>\n",
       "    <tr>\n",
       "      <th>0</th>\n",
       "      <td>320.15</td>\n",
       "      <td>0.88</td>\n",
       "      <td>A</td>\n",
       "      <td>10.144919</td>\n",
       "      <td>basic</td>\n",
       "      <td>M300</td>\n",
       "      <td>changed final value</td>\n",
       "    </tr>\n",
       "    <tr>\n",
       "      <th>1</th>\n",
       "      <td>320.14</td>\n",
       "      <td>1.55</td>\n",
       "      <td>A</td>\n",
       "      <td>11.547027</td>\n",
       "      <td>special</td>\n",
       "      <td>M300</td>\n",
       "      <td>changed final value</td>\n",
       "    </tr>\n",
       "    <tr>\n",
       "      <th>2</th>\n",
       "      <td>284.85</td>\n",
       "      <td>2.97</td>\n",
       "      <td>A</td>\n",
       "      <td>11.112109</td>\n",
       "      <td>advanced</td>\n",
       "      <td>M250</td>\n",
       "      <td>changed final value</td>\n",
       "    </tr>\n",
       "    <tr>\n",
       "      <th>3</th>\n",
       "      <td>263.92</td>\n",
       "      <td>2.36</td>\n",
       "      <td>C</td>\n",
       "      <td>9.900123</td>\n",
       "      <td>advanced</td>\n",
       "      <td>M250</td>\n",
       "      <td>approved by QC</td>\n",
       "    </tr>\n",
       "    <tr>\n",
       "      <th>4</th>\n",
       "      <td>276.22</td>\n",
       "      <td>2.98</td>\n",
       "      <td>C</td>\n",
       "      <td>10.079822</td>\n",
       "      <td>advanced</td>\n",
       "      <td>M250</td>\n",
       "      <td>changed final value</td>\n",
       "    </tr>\n",
       "    <tr>\n",
       "      <th>...</th>\n",
       "      <td>...</td>\n",
       "      <td>...</td>\n",
       "      <td>...</td>\n",
       "      <td>...</td>\n",
       "      <td>...</td>\n",
       "      <td>...</td>\n",
       "      <td>...</td>\n",
       "    </tr>\n",
       "    <tr>\n",
       "      <th>495</th>\n",
       "      <td>301.01</td>\n",
       "      <td>1.59</td>\n",
       "      <td>A</td>\n",
       "      <td>10.471494</td>\n",
       "      <td>special</td>\n",
       "      <td>M300</td>\n",
       "      <td>changed final value</td>\n",
       "    </tr>\n",
       "    <tr>\n",
       "      <th>496</th>\n",
       "      <td>331.41</td>\n",
       "      <td>2.60</td>\n",
       "      <td>A</td>\n",
       "      <td>12.048504</td>\n",
       "      <td>advanced</td>\n",
       "      <td>M300</td>\n",
       "      <td>changed final value</td>\n",
       "    </tr>\n",
       "    <tr>\n",
       "      <th>497</th>\n",
       "      <td>311.08</td>\n",
       "      <td>0.38</td>\n",
       "      <td>C</td>\n",
       "      <td>6.128060</td>\n",
       "      <td>basic</td>\n",
       "      <td>M300</td>\n",
       "      <td>rejected by QC</td>\n",
       "    </tr>\n",
       "    <tr>\n",
       "      <th>498</th>\n",
       "      <td>315.56</td>\n",
       "      <td>1.89</td>\n",
       "      <td>B</td>\n",
       "      <td>9.198321</td>\n",
       "      <td>special</td>\n",
       "      <td>M300</td>\n",
       "      <td>rejected by QC</td>\n",
       "    </tr>\n",
       "    <tr>\n",
       "      <th>499</th>\n",
       "      <td>309.30</td>\n",
       "      <td>2.91</td>\n",
       "      <td>A</td>\n",
       "      <td>12.686713</td>\n",
       "      <td>advanced</td>\n",
       "      <td>M300</td>\n",
       "      <td>changed final value</td>\n",
       "    </tr>\n",
       "  </tbody>\n",
       "</table>\n",
       "<p>500 rows × 7 columns</p>\n",
       "</div>"
      ],
      "text/plain": [
       "     QTD_CHOC  VAR_1 VAR_2  PESO_BOMBOM   FORMULA MEDIA_QTD_CHOC  \\\n",
       "0      320.15   0.88     A    10.144919     basic           M300   \n",
       "1      320.14   1.55     A    11.547027   special           M300   \n",
       "2      284.85   2.97     A    11.112109  advanced           M250   \n",
       "3      263.92   2.36     C     9.900123  advanced           M250   \n",
       "4      276.22   2.98     C    10.079822  advanced           M250   \n",
       "..        ...    ...   ...          ...       ...            ...   \n",
       "495    301.01   1.59     A    10.471494   special           M300   \n",
       "496    331.41   2.60     A    12.048504  advanced           M300   \n",
       "497    311.08   0.38     C     6.128060     basic           M300   \n",
       "498    315.56   1.89     B     9.198321   special           M300   \n",
       "499    309.30   2.91     A    12.686713  advanced           M300   \n",
       "\n",
       "              PESO_IDEAL  \n",
       "0    changed final value  \n",
       "1    changed final value  \n",
       "2    changed final value  \n",
       "3         approved by QC  \n",
       "4    changed final value  \n",
       "..                   ...  \n",
       "495  changed final value  \n",
       "496  changed final value  \n",
       "497       rejected by QC  \n",
       "498       rejected by QC  \n",
       "499  changed final value  \n",
       "\n",
       "[500 rows x 7 columns]"
      ]
     },
     "execution_count": 35,
     "metadata": {},
     "output_type": "execute_result"
    }
   ],
   "source": [
    "dataframe1"
   ]
  },
  {
   "cell_type": "code",
   "execution_count": 36,
   "metadata": {},
   "outputs": [],
   "source": [
    "var_2 = pd.get_dummies(dataframe1['VAR_2'],prefix='VAR_2',drop_first=True)\n",
    "var_f = pd.get_dummies(dataframe1['FORMULA'],prefix='FORMULA',drop_first=True)\n",
    "var_m = pd.get_dummies(dataframe1['MEDIA_QTD_CHOC'],prefix='MEDIA_QTD_CHOC',drop_first=True)"
   ]
  },
  {
   "cell_type": "code",
   "execution_count": 37,
   "metadata": {},
   "outputs": [
    {
     "data": {
      "text/html": [
       "<div>\n",
       "<style scoped>\n",
       "    .dataframe tbody tr th:only-of-type {\n",
       "        vertical-align: middle;\n",
       "    }\n",
       "\n",
       "    .dataframe tbody tr th {\n",
       "        vertical-align: top;\n",
       "    }\n",
       "\n",
       "    .dataframe thead th {\n",
       "        text-align: right;\n",
       "    }\n",
       "</style>\n",
       "<table border=\"1\" class=\"dataframe\">\n",
       "  <thead>\n",
       "    <tr style=\"text-align: right;\">\n",
       "      <th></th>\n",
       "      <th>QTD_CHOC</th>\n",
       "      <th>VAR_1</th>\n",
       "      <th>VAR_2</th>\n",
       "      <th>PESO_BOMBOM</th>\n",
       "      <th>FORMULA</th>\n",
       "      <th>MEDIA_QTD_CHOC</th>\n",
       "      <th>PESO_IDEAL</th>\n",
       "    </tr>\n",
       "  </thead>\n",
       "  <tbody>\n",
       "    <tr>\n",
       "      <th>0</th>\n",
       "      <td>320.15</td>\n",
       "      <td>0.88</td>\n",
       "      <td>A</td>\n",
       "      <td>10.144919</td>\n",
       "      <td>basic</td>\n",
       "      <td>M300</td>\n",
       "      <td>changed final value</td>\n",
       "    </tr>\n",
       "    <tr>\n",
       "      <th>1</th>\n",
       "      <td>320.14</td>\n",
       "      <td>1.55</td>\n",
       "      <td>A</td>\n",
       "      <td>11.547027</td>\n",
       "      <td>special</td>\n",
       "      <td>M300</td>\n",
       "      <td>changed final value</td>\n",
       "    </tr>\n",
       "    <tr>\n",
       "      <th>2</th>\n",
       "      <td>284.85</td>\n",
       "      <td>2.97</td>\n",
       "      <td>A</td>\n",
       "      <td>11.112109</td>\n",
       "      <td>advanced</td>\n",
       "      <td>M250</td>\n",
       "      <td>changed final value</td>\n",
       "    </tr>\n",
       "    <tr>\n",
       "      <th>3</th>\n",
       "      <td>263.92</td>\n",
       "      <td>2.36</td>\n",
       "      <td>C</td>\n",
       "      <td>9.900123</td>\n",
       "      <td>advanced</td>\n",
       "      <td>M250</td>\n",
       "      <td>approved by QC</td>\n",
       "    </tr>\n",
       "    <tr>\n",
       "      <th>4</th>\n",
       "      <td>276.22</td>\n",
       "      <td>2.98</td>\n",
       "      <td>C</td>\n",
       "      <td>10.079822</td>\n",
       "      <td>advanced</td>\n",
       "      <td>M250</td>\n",
       "      <td>changed final value</td>\n",
       "    </tr>\n",
       "    <tr>\n",
       "      <th>...</th>\n",
       "      <td>...</td>\n",
       "      <td>...</td>\n",
       "      <td>...</td>\n",
       "      <td>...</td>\n",
       "      <td>...</td>\n",
       "      <td>...</td>\n",
       "      <td>...</td>\n",
       "    </tr>\n",
       "    <tr>\n",
       "      <th>495</th>\n",
       "      <td>301.01</td>\n",
       "      <td>1.59</td>\n",
       "      <td>A</td>\n",
       "      <td>10.471494</td>\n",
       "      <td>special</td>\n",
       "      <td>M300</td>\n",
       "      <td>changed final value</td>\n",
       "    </tr>\n",
       "    <tr>\n",
       "      <th>496</th>\n",
       "      <td>331.41</td>\n",
       "      <td>2.60</td>\n",
       "      <td>A</td>\n",
       "      <td>12.048504</td>\n",
       "      <td>advanced</td>\n",
       "      <td>M300</td>\n",
       "      <td>changed final value</td>\n",
       "    </tr>\n",
       "    <tr>\n",
       "      <th>497</th>\n",
       "      <td>311.08</td>\n",
       "      <td>0.38</td>\n",
       "      <td>C</td>\n",
       "      <td>6.128060</td>\n",
       "      <td>basic</td>\n",
       "      <td>M300</td>\n",
       "      <td>rejected by QC</td>\n",
       "    </tr>\n",
       "    <tr>\n",
       "      <th>498</th>\n",
       "      <td>315.56</td>\n",
       "      <td>1.89</td>\n",
       "      <td>B</td>\n",
       "      <td>9.198321</td>\n",
       "      <td>special</td>\n",
       "      <td>M300</td>\n",
       "      <td>rejected by QC</td>\n",
       "    </tr>\n",
       "    <tr>\n",
       "      <th>499</th>\n",
       "      <td>309.30</td>\n",
       "      <td>2.91</td>\n",
       "      <td>A</td>\n",
       "      <td>12.686713</td>\n",
       "      <td>advanced</td>\n",
       "      <td>M300</td>\n",
       "      <td>changed final value</td>\n",
       "    </tr>\n",
       "  </tbody>\n",
       "</table>\n",
       "<p>500 rows × 7 columns</p>\n",
       "</div>"
      ],
      "text/plain": [
       "     QTD_CHOC  VAR_1 VAR_2  PESO_BOMBOM   FORMULA MEDIA_QTD_CHOC  \\\n",
       "0      320.15   0.88     A    10.144919     basic           M300   \n",
       "1      320.14   1.55     A    11.547027   special           M300   \n",
       "2      284.85   2.97     A    11.112109  advanced           M250   \n",
       "3      263.92   2.36     C     9.900123  advanced           M250   \n",
       "4      276.22   2.98     C    10.079822  advanced           M250   \n",
       "..        ...    ...   ...          ...       ...            ...   \n",
       "495    301.01   1.59     A    10.471494   special           M300   \n",
       "496    331.41   2.60     A    12.048504  advanced           M300   \n",
       "497    311.08   0.38     C     6.128060     basic           M300   \n",
       "498    315.56   1.89     B     9.198321   special           M300   \n",
       "499    309.30   2.91     A    12.686713  advanced           M300   \n",
       "\n",
       "              PESO_IDEAL  \n",
       "0    changed final value  \n",
       "1    changed final value  \n",
       "2    changed final value  \n",
       "3         approved by QC  \n",
       "4    changed final value  \n",
       "..                   ...  \n",
       "495  changed final value  \n",
       "496  changed final value  \n",
       "497       rejected by QC  \n",
       "498       rejected by QC  \n",
       "499  changed final value  \n",
       "\n",
       "[500 rows x 7 columns]"
      ]
     },
     "execution_count": 37,
     "metadata": {},
     "output_type": "execute_result"
    }
   ],
   "source": [
    "dataframe1"
   ]
  },
  {
   "cell_type": "code",
   "execution_count": 38,
   "metadata": {},
   "outputs": [],
   "source": [
    "dataframe1_oficial = pd.concat([dataframe1,var_2,var_f,var_m],axis=1)\n"
   ]
  },
  {
   "cell_type": "code",
   "execution_count": 39,
   "metadata": {},
   "outputs": [],
   "source": [
    "dataframe1_oficial33 = pd.DataFrame() "
   ]
  },
  {
   "cell_type": "code",
   "execution_count": 40,
   "metadata": {},
   "outputs": [],
   "source": [
    "dataframe1_oficial2 = dataframe1_oficial.copy() #salvando copia\n",
    "\n"
   ]
  },
  {
   "cell_type": "code",
   "execution_count": 41,
   "metadata": {},
   "outputs": [],
   "source": [
    "dataframe1_oficial.drop(['QTD_CHOC','VAR_1','PESO_BOMBOM','FORMULA','MEDIA_QTD_CHOC','VAR_2'],axis=1,inplace=True)"
   ]
  },
  {
   "cell_type": "code",
   "execution_count": 42,
   "metadata": {},
   "outputs": [
    {
     "data": {
      "text/html": [
       "<div>\n",
       "<style scoped>\n",
       "    .dataframe tbody tr th:only-of-type {\n",
       "        vertical-align: middle;\n",
       "    }\n",
       "\n",
       "    .dataframe tbody tr th {\n",
       "        vertical-align: top;\n",
       "    }\n",
       "\n",
       "    .dataframe thead th {\n",
       "        text-align: right;\n",
       "    }\n",
       "</style>\n",
       "<table border=\"1\" class=\"dataframe\">\n",
       "  <thead>\n",
       "    <tr style=\"text-align: right;\">\n",
       "      <th></th>\n",
       "      <th>QTD_CHOC</th>\n",
       "      <th>VAR_1</th>\n",
       "      <th>VAR_2</th>\n",
       "      <th>PESO_BOMBOM</th>\n",
       "      <th>FORMULA</th>\n",
       "      <th>MEDIA_QTD_CHOC</th>\n",
       "      <th>PESO_IDEAL</th>\n",
       "      <th>VAR_2_B</th>\n",
       "      <th>VAR_2_C</th>\n",
       "      <th>FORMULA_basic</th>\n",
       "      <th>FORMULA_special</th>\n",
       "      <th>MEDIA_QTD_CHOC_M150</th>\n",
       "      <th>MEDIA_QTD_CHOC_M200</th>\n",
       "      <th>MEDIA_QTD_CHOC_M250</th>\n",
       "      <th>MEDIA_QTD_CHOC_M300</th>\n",
       "      <th>MEDIA_QTD_CHOC_M350</th>\n",
       "      <th>MEDIA_QTD_CHOC_M400</th>\n",
       "    </tr>\n",
       "  </thead>\n",
       "  <tbody>\n",
       "    <tr>\n",
       "      <th>0</th>\n",
       "      <td>320.15</td>\n",
       "      <td>0.88</td>\n",
       "      <td>A</td>\n",
       "      <td>10.144919</td>\n",
       "      <td>basic</td>\n",
       "      <td>M300</td>\n",
       "      <td>changed final value</td>\n",
       "      <td>False</td>\n",
       "      <td>False</td>\n",
       "      <td>True</td>\n",
       "      <td>False</td>\n",
       "      <td>False</td>\n",
       "      <td>False</td>\n",
       "      <td>False</td>\n",
       "      <td>True</td>\n",
       "      <td>False</td>\n",
       "      <td>False</td>\n",
       "    </tr>\n",
       "    <tr>\n",
       "      <th>1</th>\n",
       "      <td>320.14</td>\n",
       "      <td>1.55</td>\n",
       "      <td>A</td>\n",
       "      <td>11.547027</td>\n",
       "      <td>special</td>\n",
       "      <td>M300</td>\n",
       "      <td>changed final value</td>\n",
       "      <td>False</td>\n",
       "      <td>False</td>\n",
       "      <td>False</td>\n",
       "      <td>True</td>\n",
       "      <td>False</td>\n",
       "      <td>False</td>\n",
       "      <td>False</td>\n",
       "      <td>True</td>\n",
       "      <td>False</td>\n",
       "      <td>False</td>\n",
       "    </tr>\n",
       "    <tr>\n",
       "      <th>2</th>\n",
       "      <td>284.85</td>\n",
       "      <td>2.97</td>\n",
       "      <td>A</td>\n",
       "      <td>11.112109</td>\n",
       "      <td>advanced</td>\n",
       "      <td>M250</td>\n",
       "      <td>changed final value</td>\n",
       "      <td>False</td>\n",
       "      <td>False</td>\n",
       "      <td>False</td>\n",
       "      <td>False</td>\n",
       "      <td>False</td>\n",
       "      <td>False</td>\n",
       "      <td>True</td>\n",
       "      <td>False</td>\n",
       "      <td>False</td>\n",
       "      <td>False</td>\n",
       "    </tr>\n",
       "    <tr>\n",
       "      <th>3</th>\n",
       "      <td>263.92</td>\n",
       "      <td>2.36</td>\n",
       "      <td>C</td>\n",
       "      <td>9.900123</td>\n",
       "      <td>advanced</td>\n",
       "      <td>M250</td>\n",
       "      <td>approved by QC</td>\n",
       "      <td>False</td>\n",
       "      <td>True</td>\n",
       "      <td>False</td>\n",
       "      <td>False</td>\n",
       "      <td>False</td>\n",
       "      <td>False</td>\n",
       "      <td>True</td>\n",
       "      <td>False</td>\n",
       "      <td>False</td>\n",
       "      <td>False</td>\n",
       "    </tr>\n",
       "    <tr>\n",
       "      <th>4</th>\n",
       "      <td>276.22</td>\n",
       "      <td>2.98</td>\n",
       "      <td>C</td>\n",
       "      <td>10.079822</td>\n",
       "      <td>advanced</td>\n",
       "      <td>M250</td>\n",
       "      <td>changed final value</td>\n",
       "      <td>False</td>\n",
       "      <td>True</td>\n",
       "      <td>False</td>\n",
       "      <td>False</td>\n",
       "      <td>False</td>\n",
       "      <td>False</td>\n",
       "      <td>True</td>\n",
       "      <td>False</td>\n",
       "      <td>False</td>\n",
       "      <td>False</td>\n",
       "    </tr>\n",
       "    <tr>\n",
       "      <th>...</th>\n",
       "      <td>...</td>\n",
       "      <td>...</td>\n",
       "      <td>...</td>\n",
       "      <td>...</td>\n",
       "      <td>...</td>\n",
       "      <td>...</td>\n",
       "      <td>...</td>\n",
       "      <td>...</td>\n",
       "      <td>...</td>\n",
       "      <td>...</td>\n",
       "      <td>...</td>\n",
       "      <td>...</td>\n",
       "      <td>...</td>\n",
       "      <td>...</td>\n",
       "      <td>...</td>\n",
       "      <td>...</td>\n",
       "      <td>...</td>\n",
       "    </tr>\n",
       "    <tr>\n",
       "      <th>495</th>\n",
       "      <td>301.01</td>\n",
       "      <td>1.59</td>\n",
       "      <td>A</td>\n",
       "      <td>10.471494</td>\n",
       "      <td>special</td>\n",
       "      <td>M300</td>\n",
       "      <td>changed final value</td>\n",
       "      <td>False</td>\n",
       "      <td>False</td>\n",
       "      <td>False</td>\n",
       "      <td>True</td>\n",
       "      <td>False</td>\n",
       "      <td>False</td>\n",
       "      <td>False</td>\n",
       "      <td>True</td>\n",
       "      <td>False</td>\n",
       "      <td>False</td>\n",
       "    </tr>\n",
       "    <tr>\n",
       "      <th>496</th>\n",
       "      <td>331.41</td>\n",
       "      <td>2.60</td>\n",
       "      <td>A</td>\n",
       "      <td>12.048504</td>\n",
       "      <td>advanced</td>\n",
       "      <td>M300</td>\n",
       "      <td>changed final value</td>\n",
       "      <td>False</td>\n",
       "      <td>False</td>\n",
       "      <td>False</td>\n",
       "      <td>False</td>\n",
       "      <td>False</td>\n",
       "      <td>False</td>\n",
       "      <td>False</td>\n",
       "      <td>True</td>\n",
       "      <td>False</td>\n",
       "      <td>False</td>\n",
       "    </tr>\n",
       "    <tr>\n",
       "      <th>497</th>\n",
       "      <td>311.08</td>\n",
       "      <td>0.38</td>\n",
       "      <td>C</td>\n",
       "      <td>6.128060</td>\n",
       "      <td>basic</td>\n",
       "      <td>M300</td>\n",
       "      <td>rejected by QC</td>\n",
       "      <td>False</td>\n",
       "      <td>True</td>\n",
       "      <td>True</td>\n",
       "      <td>False</td>\n",
       "      <td>False</td>\n",
       "      <td>False</td>\n",
       "      <td>False</td>\n",
       "      <td>True</td>\n",
       "      <td>False</td>\n",
       "      <td>False</td>\n",
       "    </tr>\n",
       "    <tr>\n",
       "      <th>498</th>\n",
       "      <td>315.56</td>\n",
       "      <td>1.89</td>\n",
       "      <td>B</td>\n",
       "      <td>9.198321</td>\n",
       "      <td>special</td>\n",
       "      <td>M300</td>\n",
       "      <td>rejected by QC</td>\n",
       "      <td>True</td>\n",
       "      <td>False</td>\n",
       "      <td>False</td>\n",
       "      <td>True</td>\n",
       "      <td>False</td>\n",
       "      <td>False</td>\n",
       "      <td>False</td>\n",
       "      <td>True</td>\n",
       "      <td>False</td>\n",
       "      <td>False</td>\n",
       "    </tr>\n",
       "    <tr>\n",
       "      <th>499</th>\n",
       "      <td>309.30</td>\n",
       "      <td>2.91</td>\n",
       "      <td>A</td>\n",
       "      <td>12.686713</td>\n",
       "      <td>advanced</td>\n",
       "      <td>M300</td>\n",
       "      <td>changed final value</td>\n",
       "      <td>False</td>\n",
       "      <td>False</td>\n",
       "      <td>False</td>\n",
       "      <td>False</td>\n",
       "      <td>False</td>\n",
       "      <td>False</td>\n",
       "      <td>False</td>\n",
       "      <td>True</td>\n",
       "      <td>False</td>\n",
       "      <td>False</td>\n",
       "    </tr>\n",
       "  </tbody>\n",
       "</table>\n",
       "<p>500 rows × 17 columns</p>\n",
       "</div>"
      ],
      "text/plain": [
       "     QTD_CHOC  VAR_1 VAR_2  PESO_BOMBOM   FORMULA MEDIA_QTD_CHOC  \\\n",
       "0      320.15   0.88     A    10.144919     basic           M300   \n",
       "1      320.14   1.55     A    11.547027   special           M300   \n",
       "2      284.85   2.97     A    11.112109  advanced           M250   \n",
       "3      263.92   2.36     C     9.900123  advanced           M250   \n",
       "4      276.22   2.98     C    10.079822  advanced           M250   \n",
       "..        ...    ...   ...          ...       ...            ...   \n",
       "495    301.01   1.59     A    10.471494   special           M300   \n",
       "496    331.41   2.60     A    12.048504  advanced           M300   \n",
       "497    311.08   0.38     C     6.128060     basic           M300   \n",
       "498    315.56   1.89     B     9.198321   special           M300   \n",
       "499    309.30   2.91     A    12.686713  advanced           M300   \n",
       "\n",
       "              PESO_IDEAL  VAR_2_B  VAR_2_C  FORMULA_basic  FORMULA_special  \\\n",
       "0    changed final value    False    False           True            False   \n",
       "1    changed final value    False    False          False             True   \n",
       "2    changed final value    False    False          False            False   \n",
       "3         approved by QC    False     True          False            False   \n",
       "4    changed final value    False     True          False            False   \n",
       "..                   ...      ...      ...            ...              ...   \n",
       "495  changed final value    False    False          False             True   \n",
       "496  changed final value    False    False          False            False   \n",
       "497       rejected by QC    False     True           True            False   \n",
       "498       rejected by QC     True    False          False             True   \n",
       "499  changed final value    False    False          False            False   \n",
       "\n",
       "     MEDIA_QTD_CHOC_M150  MEDIA_QTD_CHOC_M200  MEDIA_QTD_CHOC_M250  \\\n",
       "0                  False                False                False   \n",
       "1                  False                False                False   \n",
       "2                  False                False                 True   \n",
       "3                  False                False                 True   \n",
       "4                  False                False                 True   \n",
       "..                   ...                  ...                  ...   \n",
       "495                False                False                False   \n",
       "496                False                False                False   \n",
       "497                False                False                False   \n",
       "498                False                False                False   \n",
       "499                False                False                False   \n",
       "\n",
       "     MEDIA_QTD_CHOC_M300  MEDIA_QTD_CHOC_M350  MEDIA_QTD_CHOC_M400  \n",
       "0                   True                False                False  \n",
       "1                   True                False                False  \n",
       "2                  False                False                False  \n",
       "3                  False                False                False  \n",
       "4                  False                False                False  \n",
       "..                   ...                  ...                  ...  \n",
       "495                 True                False                False  \n",
       "496                 True                False                False  \n",
       "497                 True                False                False  \n",
       "498                 True                False                False  \n",
       "499                 True                False                False  \n",
       "\n",
       "[500 rows x 17 columns]"
      ]
     },
     "execution_count": 42,
     "metadata": {},
     "output_type": "execute_result"
    }
   ],
   "source": [
    "dataframe1_oficial2"
   ]
  },
  {
   "cell_type": "code",
   "execution_count": 43,
   "metadata": {},
   "outputs": [],
   "source": [
    "from sklearn.model_selection import train_test_split\n",
    "preditores = dataframe1_oficial.drop(['PESO_IDEAL'],axis=1)\n",
    "alvo = dataframe1_oficial['PESO_IDEAL']\n",
    "X_TRAIN,X_TEST,Y_TRAIN,Y_TEST= train_test_split(preditores,alvo,test_size=0.25,random_state=10)\n"
   ]
  },
  {
   "cell_type": "code",
   "execution_count": 44,
   "metadata": {},
   "outputs": [
    {
     "name": "stdout",
     "output_type": "stream",
     "text": [
      "Acuracia de - > 80.0\n"
     ]
    }
   ],
   "source": [
    "### Random forest classifier\n",
    "\n",
    "from sklearn.ensemble import RandomForestClassifier\n",
    "from sklearn.metrics import accuracy_score\n",
    "\n",
    "\n",
    "randomforest= RandomForestClassifier()\n",
    "randomforest.fit(X_TRAIN,Y_TRAIN)\n",
    "Y_predict = randomforest.predict(X_TEST)\n",
    "acuracia_randomforest = round(accuracy_score(Y_predict,Y_TEST)*100, 2)\n",
    "print(f'Acuracia de - > {acuracia_randomforest}')"
   ]
  },
  {
   "cell_type": "code",
   "execution_count": 45,
   "metadata": {},
   "outputs": [
    {
     "name": "stdout",
     "output_type": "stream",
     "text": [
      "Acuracia de - > 74.4\n"
     ]
    }
   ],
   "source": [
    "### Logistic Regression\n",
    "\n",
    "from sklearn.linear_model import LogisticRegression\n",
    "\n",
    "logistic_reg = LogisticRegression(max_iter=1000) \n",
    "logistic_reg.fit(X_TRAIN,Y_TRAIN)\n",
    "Y_predict2= logistic_reg.predict(X_TEST)\n",
    "acuracia_logistic_reg = round(accuracy_score(Y_predict2, Y_TEST)*100 ,2)\n",
    "print(f'Acuracia de - > {acuracia_logistic_reg}')"
   ]
  },
  {
   "cell_type": "code",
   "execution_count": 46,
   "metadata": {},
   "outputs": [
    {
     "name": "stdout",
     "output_type": "stream",
     "text": [
      "Acuracia de -> 79.2\n"
     ]
    }
   ],
   "source": [
    "## Gradient Boosting Classifier \n",
    "\n",
    "from sklearn.ensemble import GradientBoostingClassifier\n",
    "\n",
    "gbc = GradientBoostingClassifier()\n",
    "gbc.fit (X_TRAIN,Y_TRAIN)\n",
    "Y_predict3 = gbc.predict(X_TEST)\n",
    "acuracia_gbc = round(accuracy_score(Y_predict3,Y_TEST)*100,2)\n",
    "print(f'Acuracia de -> {acuracia_gbc}')\n"
   ]
  },
  {
   "cell_type": "code",
   "execution_count": 47,
   "metadata": {},
   "outputs": [
    {
     "name": "stdout",
     "output_type": "stream",
     "text": [
      "Acuracia de -> 79.2\n"
     ]
    }
   ],
   "source": [
    "#Stochastic Gradient Descent\n",
    "from sklearn.svm import SVC\n",
    "\n",
    "svc = SVC() \n",
    "svc.fit(X_TRAIN,Y_TRAIN)\n",
    "Y_predict4 = svc.predict(X_TEST)\n",
    "acuracia_svc = round(accuracy_score(Y_predict4,Y_TEST)*100,2)\n",
    "print(f'Acuracia de -> {acuracia_gbc}')\n"
   ]
  },
  {
   "cell_type": "code",
   "execution_count": 48,
   "metadata": {},
   "outputs": [
    {
     "name": "stdout",
     "output_type": "stream",
     "text": [
      "Acuracia de -> 79.2\n"
     ]
    }
   ],
   "source": [
    "#Decision Tree\n",
    "\n",
    "from sklearn.tree import DecisionTreeClassifier\n",
    "\n",
    "\n",
    "\n",
    "dtreee= DecisionTreeClassifier()\n",
    "dtreee.fit(X_TRAIN,Y_TRAIN)\n",
    "Y_predict5= dtreee.predict(X_TEST)\n",
    "acuracia_dtree = round(accuracy_score(Y_predict5,Y_TEST)*100,2)\n",
    "print(f'Acuracia de -> {acuracia_dtree}')\n"
   ]
  },
  {
   "cell_type": "code",
   "execution_count": 49,
   "metadata": {},
   "outputs": [
    {
     "name": "stdout",
     "output_type": "stream",
     "text": [
      "Acuracia de -> 78.4\n"
     ]
    }
   ],
   "source": [
    "# KNN or k-Nearest Neighbors\n",
    "from sklearn.neighbors import KNeighborsClassifier\n",
    "\n",
    "\n",
    "\n",
    "knn = KNeighborsClassifier()\n",
    "knn.fit(X_TRAIN,Y_TRAIN)\n",
    "Y_predict6=knn.predict(X_TEST)\n",
    "acuracia_knn = round(accuracy_score(Y_predict6,Y_TEST)*100,2)\n",
    "print(f'Acuracia de -> {acuracia_knn}')"
   ]
  },
  {
   "cell_type": "code",
   "execution_count": 50,
   "metadata": {},
   "outputs": [],
   "source": [
    "dataframe1_oficial2['PESO_IDEAL'] = dataframe1_oficial2['PESO_IDEAL'].map({'rejected by QC':0,'changed final value':0,'approved by QC':1})"
   ]
  },
  {
   "cell_type": "code",
   "execution_count": 51,
   "metadata": {},
   "outputs": [
    {
     "data": {
      "text/html": [
       "<div>\n",
       "<style scoped>\n",
       "    .dataframe tbody tr th:only-of-type {\n",
       "        vertical-align: middle;\n",
       "    }\n",
       "\n",
       "    .dataframe tbody tr th {\n",
       "        vertical-align: top;\n",
       "    }\n",
       "\n",
       "    .dataframe thead th {\n",
       "        text-align: right;\n",
       "    }\n",
       "</style>\n",
       "<table border=\"1\" class=\"dataframe\">\n",
       "  <thead>\n",
       "    <tr style=\"text-align: right;\">\n",
       "      <th></th>\n",
       "      <th>QTD_CHOC</th>\n",
       "      <th>VAR_1</th>\n",
       "      <th>VAR_2</th>\n",
       "      <th>PESO_BOMBOM</th>\n",
       "      <th>FORMULA</th>\n",
       "      <th>MEDIA_QTD_CHOC</th>\n",
       "      <th>PESO_IDEAL</th>\n",
       "      <th>VAR_2_B</th>\n",
       "      <th>VAR_2_C</th>\n",
       "      <th>FORMULA_basic</th>\n",
       "      <th>FORMULA_special</th>\n",
       "      <th>MEDIA_QTD_CHOC_M150</th>\n",
       "      <th>MEDIA_QTD_CHOC_M200</th>\n",
       "      <th>MEDIA_QTD_CHOC_M250</th>\n",
       "      <th>MEDIA_QTD_CHOC_M300</th>\n",
       "      <th>MEDIA_QTD_CHOC_M350</th>\n",
       "      <th>MEDIA_QTD_CHOC_M400</th>\n",
       "    </tr>\n",
       "  </thead>\n",
       "  <tbody>\n",
       "    <tr>\n",
       "      <th>0</th>\n",
       "      <td>320.15</td>\n",
       "      <td>0.88</td>\n",
       "      <td>A</td>\n",
       "      <td>10.144919</td>\n",
       "      <td>basic</td>\n",
       "      <td>M300</td>\n",
       "      <td>0</td>\n",
       "      <td>False</td>\n",
       "      <td>False</td>\n",
       "      <td>True</td>\n",
       "      <td>False</td>\n",
       "      <td>False</td>\n",
       "      <td>False</td>\n",
       "      <td>False</td>\n",
       "      <td>True</td>\n",
       "      <td>False</td>\n",
       "      <td>False</td>\n",
       "    </tr>\n",
       "    <tr>\n",
       "      <th>1</th>\n",
       "      <td>320.14</td>\n",
       "      <td>1.55</td>\n",
       "      <td>A</td>\n",
       "      <td>11.547027</td>\n",
       "      <td>special</td>\n",
       "      <td>M300</td>\n",
       "      <td>0</td>\n",
       "      <td>False</td>\n",
       "      <td>False</td>\n",
       "      <td>False</td>\n",
       "      <td>True</td>\n",
       "      <td>False</td>\n",
       "      <td>False</td>\n",
       "      <td>False</td>\n",
       "      <td>True</td>\n",
       "      <td>False</td>\n",
       "      <td>False</td>\n",
       "    </tr>\n",
       "    <tr>\n",
       "      <th>2</th>\n",
       "      <td>284.85</td>\n",
       "      <td>2.97</td>\n",
       "      <td>A</td>\n",
       "      <td>11.112109</td>\n",
       "      <td>advanced</td>\n",
       "      <td>M250</td>\n",
       "      <td>0</td>\n",
       "      <td>False</td>\n",
       "      <td>False</td>\n",
       "      <td>False</td>\n",
       "      <td>False</td>\n",
       "      <td>False</td>\n",
       "      <td>False</td>\n",
       "      <td>True</td>\n",
       "      <td>False</td>\n",
       "      <td>False</td>\n",
       "      <td>False</td>\n",
       "    </tr>\n",
       "    <tr>\n",
       "      <th>3</th>\n",
       "      <td>263.92</td>\n",
       "      <td>2.36</td>\n",
       "      <td>C</td>\n",
       "      <td>9.900123</td>\n",
       "      <td>advanced</td>\n",
       "      <td>M250</td>\n",
       "      <td>1</td>\n",
       "      <td>False</td>\n",
       "      <td>True</td>\n",
       "      <td>False</td>\n",
       "      <td>False</td>\n",
       "      <td>False</td>\n",
       "      <td>False</td>\n",
       "      <td>True</td>\n",
       "      <td>False</td>\n",
       "      <td>False</td>\n",
       "      <td>False</td>\n",
       "    </tr>\n",
       "    <tr>\n",
       "      <th>4</th>\n",
       "      <td>276.22</td>\n",
       "      <td>2.98</td>\n",
       "      <td>C</td>\n",
       "      <td>10.079822</td>\n",
       "      <td>advanced</td>\n",
       "      <td>M250</td>\n",
       "      <td>0</td>\n",
       "      <td>False</td>\n",
       "      <td>True</td>\n",
       "      <td>False</td>\n",
       "      <td>False</td>\n",
       "      <td>False</td>\n",
       "      <td>False</td>\n",
       "      <td>True</td>\n",
       "      <td>False</td>\n",
       "      <td>False</td>\n",
       "      <td>False</td>\n",
       "    </tr>\n",
       "    <tr>\n",
       "      <th>...</th>\n",
       "      <td>...</td>\n",
       "      <td>...</td>\n",
       "      <td>...</td>\n",
       "      <td>...</td>\n",
       "      <td>...</td>\n",
       "      <td>...</td>\n",
       "      <td>...</td>\n",
       "      <td>...</td>\n",
       "      <td>...</td>\n",
       "      <td>...</td>\n",
       "      <td>...</td>\n",
       "      <td>...</td>\n",
       "      <td>...</td>\n",
       "      <td>...</td>\n",
       "      <td>...</td>\n",
       "      <td>...</td>\n",
       "      <td>...</td>\n",
       "    </tr>\n",
       "    <tr>\n",
       "      <th>495</th>\n",
       "      <td>301.01</td>\n",
       "      <td>1.59</td>\n",
       "      <td>A</td>\n",
       "      <td>10.471494</td>\n",
       "      <td>special</td>\n",
       "      <td>M300</td>\n",
       "      <td>0</td>\n",
       "      <td>False</td>\n",
       "      <td>False</td>\n",
       "      <td>False</td>\n",
       "      <td>True</td>\n",
       "      <td>False</td>\n",
       "      <td>False</td>\n",
       "      <td>False</td>\n",
       "      <td>True</td>\n",
       "      <td>False</td>\n",
       "      <td>False</td>\n",
       "    </tr>\n",
       "    <tr>\n",
       "      <th>496</th>\n",
       "      <td>331.41</td>\n",
       "      <td>2.60</td>\n",
       "      <td>A</td>\n",
       "      <td>12.048504</td>\n",
       "      <td>advanced</td>\n",
       "      <td>M300</td>\n",
       "      <td>0</td>\n",
       "      <td>False</td>\n",
       "      <td>False</td>\n",
       "      <td>False</td>\n",
       "      <td>False</td>\n",
       "      <td>False</td>\n",
       "      <td>False</td>\n",
       "      <td>False</td>\n",
       "      <td>True</td>\n",
       "      <td>False</td>\n",
       "      <td>False</td>\n",
       "    </tr>\n",
       "    <tr>\n",
       "      <th>497</th>\n",
       "      <td>311.08</td>\n",
       "      <td>0.38</td>\n",
       "      <td>C</td>\n",
       "      <td>6.128060</td>\n",
       "      <td>basic</td>\n",
       "      <td>M300</td>\n",
       "      <td>0</td>\n",
       "      <td>False</td>\n",
       "      <td>True</td>\n",
       "      <td>True</td>\n",
       "      <td>False</td>\n",
       "      <td>False</td>\n",
       "      <td>False</td>\n",
       "      <td>False</td>\n",
       "      <td>True</td>\n",
       "      <td>False</td>\n",
       "      <td>False</td>\n",
       "    </tr>\n",
       "    <tr>\n",
       "      <th>498</th>\n",
       "      <td>315.56</td>\n",
       "      <td>1.89</td>\n",
       "      <td>B</td>\n",
       "      <td>9.198321</td>\n",
       "      <td>special</td>\n",
       "      <td>M300</td>\n",
       "      <td>0</td>\n",
       "      <td>True</td>\n",
       "      <td>False</td>\n",
       "      <td>False</td>\n",
       "      <td>True</td>\n",
       "      <td>False</td>\n",
       "      <td>False</td>\n",
       "      <td>False</td>\n",
       "      <td>True</td>\n",
       "      <td>False</td>\n",
       "      <td>False</td>\n",
       "    </tr>\n",
       "    <tr>\n",
       "      <th>499</th>\n",
       "      <td>309.30</td>\n",
       "      <td>2.91</td>\n",
       "      <td>A</td>\n",
       "      <td>12.686713</td>\n",
       "      <td>advanced</td>\n",
       "      <td>M300</td>\n",
       "      <td>0</td>\n",
       "      <td>False</td>\n",
       "      <td>False</td>\n",
       "      <td>False</td>\n",
       "      <td>False</td>\n",
       "      <td>False</td>\n",
       "      <td>False</td>\n",
       "      <td>False</td>\n",
       "      <td>True</td>\n",
       "      <td>False</td>\n",
       "      <td>False</td>\n",
       "    </tr>\n",
       "  </tbody>\n",
       "</table>\n",
       "<p>500 rows × 17 columns</p>\n",
       "</div>"
      ],
      "text/plain": [
       "     QTD_CHOC  VAR_1 VAR_2  PESO_BOMBOM   FORMULA MEDIA_QTD_CHOC  PESO_IDEAL  \\\n",
       "0      320.15   0.88     A    10.144919     basic           M300           0   \n",
       "1      320.14   1.55     A    11.547027   special           M300           0   \n",
       "2      284.85   2.97     A    11.112109  advanced           M250           0   \n",
       "3      263.92   2.36     C     9.900123  advanced           M250           1   \n",
       "4      276.22   2.98     C    10.079822  advanced           M250           0   \n",
       "..        ...    ...   ...          ...       ...            ...         ...   \n",
       "495    301.01   1.59     A    10.471494   special           M300           0   \n",
       "496    331.41   2.60     A    12.048504  advanced           M300           0   \n",
       "497    311.08   0.38     C     6.128060     basic           M300           0   \n",
       "498    315.56   1.89     B     9.198321   special           M300           0   \n",
       "499    309.30   2.91     A    12.686713  advanced           M300           0   \n",
       "\n",
       "     VAR_2_B  VAR_2_C  FORMULA_basic  FORMULA_special  MEDIA_QTD_CHOC_M150  \\\n",
       "0      False    False           True            False                False   \n",
       "1      False    False          False             True                False   \n",
       "2      False    False          False            False                False   \n",
       "3      False     True          False            False                False   \n",
       "4      False     True          False            False                False   \n",
       "..       ...      ...            ...              ...                  ...   \n",
       "495    False    False          False             True                False   \n",
       "496    False    False          False            False                False   \n",
       "497    False     True           True            False                False   \n",
       "498     True    False          False             True                False   \n",
       "499    False    False          False            False                False   \n",
       "\n",
       "     MEDIA_QTD_CHOC_M200  MEDIA_QTD_CHOC_M250  MEDIA_QTD_CHOC_M300  \\\n",
       "0                  False                False                 True   \n",
       "1                  False                False                 True   \n",
       "2                  False                 True                False   \n",
       "3                  False                 True                False   \n",
       "4                  False                 True                False   \n",
       "..                   ...                  ...                  ...   \n",
       "495                False                False                 True   \n",
       "496                False                False                 True   \n",
       "497                False                False                 True   \n",
       "498                False                False                 True   \n",
       "499                False                False                 True   \n",
       "\n",
       "     MEDIA_QTD_CHOC_M350  MEDIA_QTD_CHOC_M400  \n",
       "0                  False                False  \n",
       "1                  False                False  \n",
       "2                  False                False  \n",
       "3                  False                False  \n",
       "4                  False                False  \n",
       "..                   ...                  ...  \n",
       "495                False                False  \n",
       "496                False                False  \n",
       "497                False                False  \n",
       "498                False                False  \n",
       "499                False                False  \n",
       "\n",
       "[500 rows x 17 columns]"
      ]
     },
     "execution_count": 51,
     "metadata": {},
     "output_type": "execute_result"
    }
   ],
   "source": [
    "dataframe1_oficial2"
   ]
  },
  {
   "cell_type": "code",
   "execution_count": 52,
   "metadata": {},
   "outputs": [],
   "source": [
    "from sklearn.model_selection import train_test_split\n",
    "preditoress = dataframe1_oficial2.drop(['PESO_IDEAL'],axis=1)\n",
    "alvoo = dataframe1_oficial2['PESO_IDEAL']\n",
    "x_TRAIN,x_TEST,y_TRAIN,y_TEST= train_test_split(preditoress,alvoo,test_size=0.25,random_state=10)\n"
   ]
  },
  {
   "cell_type": "code",
   "execution_count": 53,
   "metadata": {},
   "outputs": [
    {
     "ename": "ValueError",
     "evalue": "could not convert string to float: 'B'",
     "output_type": "error",
     "traceback": [
      "\u001b[0;31m---------------------------------------------------------------------------\u001b[0m",
      "\u001b[0;31mValueError\u001b[0m                                Traceback (most recent call last)",
      "Cell \u001b[0;32mIn[53], line 8\u001b[0m\n\u001b[1;32m      5\u001b[0m \u001b[38;5;28;01mfrom\u001b[39;00m \u001b[38;5;21;01msklearn\u001b[39;00m\u001b[38;5;21;01m.\u001b[39;00m\u001b[38;5;21;01mmetrics\u001b[39;00m \u001b[38;5;28;01mimport\u001b[39;00m precision_recall_curve\n\u001b[1;32m      7\u001b[0m randomforestt\u001b[38;5;241m=\u001b[39m RandomForestClassifier()\n\u001b[0;32m----> 8\u001b[0m \u001b[43mrandomforestt\u001b[49m\u001b[38;5;241;43m.\u001b[39;49m\u001b[43mfit\u001b[49m\u001b[43m(\u001b[49m\u001b[43mx_TRAIN\u001b[49m\u001b[43m,\u001b[49m\u001b[43my_TRAIN\u001b[49m\u001b[43m)\u001b[49m\n\u001b[1;32m      9\u001b[0m y_predict8 \u001b[38;5;241m=\u001b[39m randomforestt\u001b[38;5;241m.\u001b[39mpredict(x_TEST)\n\u001b[1;32m     10\u001b[0m acuracia_randomforestt \u001b[38;5;241m=\u001b[39m \u001b[38;5;28mround\u001b[39m(accuracy_score(y_predict8,y_TEST)\u001b[38;5;241m*\u001b[39m\u001b[38;5;241m100\u001b[39m, \u001b[38;5;241m2\u001b[39m)\n",
      "File \u001b[0;32m~/mandi/lib/python3.8/site-packages/sklearn/base.py:1152\u001b[0m, in \u001b[0;36m_fit_context.<locals>.decorator.<locals>.wrapper\u001b[0;34m(estimator, *args, **kwargs)\u001b[0m\n\u001b[1;32m   1145\u001b[0m     estimator\u001b[38;5;241m.\u001b[39m_validate_params()\n\u001b[1;32m   1147\u001b[0m \u001b[38;5;28;01mwith\u001b[39;00m config_context(\n\u001b[1;32m   1148\u001b[0m     skip_parameter_validation\u001b[38;5;241m=\u001b[39m(\n\u001b[1;32m   1149\u001b[0m         prefer_skip_nested_validation \u001b[38;5;129;01mor\u001b[39;00m global_skip_validation\n\u001b[1;32m   1150\u001b[0m     )\n\u001b[1;32m   1151\u001b[0m ):\n\u001b[0;32m-> 1152\u001b[0m     \u001b[38;5;28;01mreturn\u001b[39;00m \u001b[43mfit_method\u001b[49m\u001b[43m(\u001b[49m\u001b[43mestimator\u001b[49m\u001b[43m,\u001b[49m\u001b[43m \u001b[49m\u001b[38;5;241;43m*\u001b[39;49m\u001b[43margs\u001b[49m\u001b[43m,\u001b[49m\u001b[43m \u001b[49m\u001b[38;5;241;43m*\u001b[39;49m\u001b[38;5;241;43m*\u001b[39;49m\u001b[43mkwargs\u001b[49m\u001b[43m)\u001b[49m\n",
      "File \u001b[0;32m~/mandi/lib/python3.8/site-packages/sklearn/ensemble/_forest.py:348\u001b[0m, in \u001b[0;36mBaseForest.fit\u001b[0;34m(self, X, y, sample_weight)\u001b[0m\n\u001b[1;32m    346\u001b[0m \u001b[38;5;28;01mif\u001b[39;00m issparse(y):\n\u001b[1;32m    347\u001b[0m     \u001b[38;5;28;01mraise\u001b[39;00m \u001b[38;5;167;01mValueError\u001b[39;00m(\u001b[38;5;124m\"\u001b[39m\u001b[38;5;124msparse multilabel-indicator for y is not supported.\u001b[39m\u001b[38;5;124m\"\u001b[39m)\n\u001b[0;32m--> 348\u001b[0m X, y \u001b[38;5;241m=\u001b[39m \u001b[38;5;28;43mself\u001b[39;49m\u001b[38;5;241;43m.\u001b[39;49m\u001b[43m_validate_data\u001b[49m\u001b[43m(\u001b[49m\n\u001b[1;32m    349\u001b[0m \u001b[43m    \u001b[49m\u001b[43mX\u001b[49m\u001b[43m,\u001b[49m\u001b[43m \u001b[49m\u001b[43my\u001b[49m\u001b[43m,\u001b[49m\u001b[43m \u001b[49m\u001b[43mmulti_output\u001b[49m\u001b[38;5;241;43m=\u001b[39;49m\u001b[38;5;28;43;01mTrue\u001b[39;49;00m\u001b[43m,\u001b[49m\u001b[43m \u001b[49m\u001b[43maccept_sparse\u001b[49m\u001b[38;5;241;43m=\u001b[39;49m\u001b[38;5;124;43m\"\u001b[39;49m\u001b[38;5;124;43mcsc\u001b[39;49m\u001b[38;5;124;43m\"\u001b[39;49m\u001b[43m,\u001b[49m\u001b[43m \u001b[49m\u001b[43mdtype\u001b[49m\u001b[38;5;241;43m=\u001b[39;49m\u001b[43mDTYPE\u001b[49m\n\u001b[1;32m    350\u001b[0m \u001b[43m\u001b[49m\u001b[43m)\u001b[49m\n\u001b[1;32m    351\u001b[0m \u001b[38;5;28;01mif\u001b[39;00m sample_weight \u001b[38;5;129;01mis\u001b[39;00m \u001b[38;5;129;01mnot\u001b[39;00m \u001b[38;5;28;01mNone\u001b[39;00m:\n\u001b[1;32m    352\u001b[0m     sample_weight \u001b[38;5;241m=\u001b[39m _check_sample_weight(sample_weight, X)\n",
      "File \u001b[0;32m~/mandi/lib/python3.8/site-packages/sklearn/base.py:622\u001b[0m, in \u001b[0;36mBaseEstimator._validate_data\u001b[0;34m(self, X, y, reset, validate_separately, cast_to_ndarray, **check_params)\u001b[0m\n\u001b[1;32m    620\u001b[0m         y \u001b[38;5;241m=\u001b[39m check_array(y, input_name\u001b[38;5;241m=\u001b[39m\u001b[38;5;124m\"\u001b[39m\u001b[38;5;124my\u001b[39m\u001b[38;5;124m\"\u001b[39m, \u001b[38;5;241m*\u001b[39m\u001b[38;5;241m*\u001b[39mcheck_y_params)\n\u001b[1;32m    621\u001b[0m     \u001b[38;5;28;01melse\u001b[39;00m:\n\u001b[0;32m--> 622\u001b[0m         X, y \u001b[38;5;241m=\u001b[39m \u001b[43mcheck_X_y\u001b[49m\u001b[43m(\u001b[49m\u001b[43mX\u001b[49m\u001b[43m,\u001b[49m\u001b[43m \u001b[49m\u001b[43my\u001b[49m\u001b[43m,\u001b[49m\u001b[43m \u001b[49m\u001b[38;5;241;43m*\u001b[39;49m\u001b[38;5;241;43m*\u001b[39;49m\u001b[43mcheck_params\u001b[49m\u001b[43m)\u001b[49m\n\u001b[1;32m    623\u001b[0m     out \u001b[38;5;241m=\u001b[39m X, y\n\u001b[1;32m    625\u001b[0m \u001b[38;5;28;01mif\u001b[39;00m \u001b[38;5;129;01mnot\u001b[39;00m no_val_X \u001b[38;5;129;01mand\u001b[39;00m check_params\u001b[38;5;241m.\u001b[39mget(\u001b[38;5;124m\"\u001b[39m\u001b[38;5;124mensure_2d\u001b[39m\u001b[38;5;124m\"\u001b[39m, \u001b[38;5;28;01mTrue\u001b[39;00m):\n",
      "File \u001b[0;32m~/mandi/lib/python3.8/site-packages/sklearn/utils/validation.py:1146\u001b[0m, in \u001b[0;36mcheck_X_y\u001b[0;34m(X, y, accept_sparse, accept_large_sparse, dtype, order, copy, force_all_finite, ensure_2d, allow_nd, multi_output, ensure_min_samples, ensure_min_features, y_numeric, estimator)\u001b[0m\n\u001b[1;32m   1141\u001b[0m         estimator_name \u001b[38;5;241m=\u001b[39m _check_estimator_name(estimator)\n\u001b[1;32m   1142\u001b[0m     \u001b[38;5;28;01mraise\u001b[39;00m \u001b[38;5;167;01mValueError\u001b[39;00m(\n\u001b[1;32m   1143\u001b[0m         \u001b[38;5;124mf\u001b[39m\u001b[38;5;124m\"\u001b[39m\u001b[38;5;132;01m{\u001b[39;00mestimator_name\u001b[38;5;132;01m}\u001b[39;00m\u001b[38;5;124m requires y to be passed, but the target y is None\u001b[39m\u001b[38;5;124m\"\u001b[39m\n\u001b[1;32m   1144\u001b[0m     )\n\u001b[0;32m-> 1146\u001b[0m X \u001b[38;5;241m=\u001b[39m \u001b[43mcheck_array\u001b[49m\u001b[43m(\u001b[49m\n\u001b[1;32m   1147\u001b[0m \u001b[43m    \u001b[49m\u001b[43mX\u001b[49m\u001b[43m,\u001b[49m\n\u001b[1;32m   1148\u001b[0m \u001b[43m    \u001b[49m\u001b[43maccept_sparse\u001b[49m\u001b[38;5;241;43m=\u001b[39;49m\u001b[43maccept_sparse\u001b[49m\u001b[43m,\u001b[49m\n\u001b[1;32m   1149\u001b[0m \u001b[43m    \u001b[49m\u001b[43maccept_large_sparse\u001b[49m\u001b[38;5;241;43m=\u001b[39;49m\u001b[43maccept_large_sparse\u001b[49m\u001b[43m,\u001b[49m\n\u001b[1;32m   1150\u001b[0m \u001b[43m    \u001b[49m\u001b[43mdtype\u001b[49m\u001b[38;5;241;43m=\u001b[39;49m\u001b[43mdtype\u001b[49m\u001b[43m,\u001b[49m\n\u001b[1;32m   1151\u001b[0m \u001b[43m    \u001b[49m\u001b[43morder\u001b[49m\u001b[38;5;241;43m=\u001b[39;49m\u001b[43morder\u001b[49m\u001b[43m,\u001b[49m\n\u001b[1;32m   1152\u001b[0m \u001b[43m    \u001b[49m\u001b[43mcopy\u001b[49m\u001b[38;5;241;43m=\u001b[39;49m\u001b[43mcopy\u001b[49m\u001b[43m,\u001b[49m\n\u001b[1;32m   1153\u001b[0m \u001b[43m    \u001b[49m\u001b[43mforce_all_finite\u001b[49m\u001b[38;5;241;43m=\u001b[39;49m\u001b[43mforce_all_finite\u001b[49m\u001b[43m,\u001b[49m\n\u001b[1;32m   1154\u001b[0m \u001b[43m    \u001b[49m\u001b[43mensure_2d\u001b[49m\u001b[38;5;241;43m=\u001b[39;49m\u001b[43mensure_2d\u001b[49m\u001b[43m,\u001b[49m\n\u001b[1;32m   1155\u001b[0m \u001b[43m    \u001b[49m\u001b[43mallow_nd\u001b[49m\u001b[38;5;241;43m=\u001b[39;49m\u001b[43mallow_nd\u001b[49m\u001b[43m,\u001b[49m\n\u001b[1;32m   1156\u001b[0m \u001b[43m    \u001b[49m\u001b[43mensure_min_samples\u001b[49m\u001b[38;5;241;43m=\u001b[39;49m\u001b[43mensure_min_samples\u001b[49m\u001b[43m,\u001b[49m\n\u001b[1;32m   1157\u001b[0m \u001b[43m    \u001b[49m\u001b[43mensure_min_features\u001b[49m\u001b[38;5;241;43m=\u001b[39;49m\u001b[43mensure_min_features\u001b[49m\u001b[43m,\u001b[49m\n\u001b[1;32m   1158\u001b[0m \u001b[43m    \u001b[49m\u001b[43mestimator\u001b[49m\u001b[38;5;241;43m=\u001b[39;49m\u001b[43mestimator\u001b[49m\u001b[43m,\u001b[49m\n\u001b[1;32m   1159\u001b[0m \u001b[43m    \u001b[49m\u001b[43minput_name\u001b[49m\u001b[38;5;241;43m=\u001b[39;49m\u001b[38;5;124;43m\"\u001b[39;49m\u001b[38;5;124;43mX\u001b[39;49m\u001b[38;5;124;43m\"\u001b[39;49m\u001b[43m,\u001b[49m\n\u001b[1;32m   1160\u001b[0m \u001b[43m\u001b[49m\u001b[43m)\u001b[49m\n\u001b[1;32m   1162\u001b[0m y \u001b[38;5;241m=\u001b[39m _check_y(y, multi_output\u001b[38;5;241m=\u001b[39mmulti_output, y_numeric\u001b[38;5;241m=\u001b[39my_numeric, estimator\u001b[38;5;241m=\u001b[39mestimator)\n\u001b[1;32m   1164\u001b[0m check_consistent_length(X, y)\n",
      "File \u001b[0;32m~/mandi/lib/python3.8/site-packages/sklearn/utils/validation.py:836\u001b[0m, in \u001b[0;36mcheck_array\u001b[0;34m(array, accept_sparse, accept_large_sparse, dtype, order, copy, force_all_finite, ensure_2d, allow_nd, ensure_min_samples, ensure_min_features, estimator, input_name)\u001b[0m\n\u001b[1;32m    831\u001b[0m \u001b[38;5;28;01mif\u001b[39;00m pandas_requires_conversion:\n\u001b[1;32m    832\u001b[0m     \u001b[38;5;66;03m# pandas dataframe requires conversion earlier to handle extension dtypes with\u001b[39;00m\n\u001b[1;32m    833\u001b[0m     \u001b[38;5;66;03m# nans\u001b[39;00m\n\u001b[1;32m    834\u001b[0m     \u001b[38;5;66;03m# Use the original dtype for conversion if dtype is None\u001b[39;00m\n\u001b[1;32m    835\u001b[0m     new_dtype \u001b[38;5;241m=\u001b[39m dtype_orig \u001b[38;5;28;01mif\u001b[39;00m dtype \u001b[38;5;129;01mis\u001b[39;00m \u001b[38;5;28;01mNone\u001b[39;00m \u001b[38;5;28;01melse\u001b[39;00m dtype\n\u001b[0;32m--> 836\u001b[0m     array \u001b[38;5;241m=\u001b[39m \u001b[43marray\u001b[49m\u001b[38;5;241;43m.\u001b[39;49m\u001b[43mastype\u001b[49m\u001b[43m(\u001b[49m\u001b[43mnew_dtype\u001b[49m\u001b[43m)\u001b[49m\n\u001b[1;32m    837\u001b[0m     \u001b[38;5;66;03m# Since we converted here, we do not need to convert again later\u001b[39;00m\n\u001b[1;32m    838\u001b[0m     dtype \u001b[38;5;241m=\u001b[39m \u001b[38;5;28;01mNone\u001b[39;00m\n",
      "File \u001b[0;32m~/mandi/lib/python3.8/site-packages/pandas/core/generic.py:6324\u001b[0m, in \u001b[0;36mNDFrame.astype\u001b[0;34m(self, dtype, copy, errors)\u001b[0m\n\u001b[1;32m   6317\u001b[0m     results \u001b[38;5;241m=\u001b[39m [\n\u001b[1;32m   6318\u001b[0m         \u001b[38;5;28mself\u001b[39m\u001b[38;5;241m.\u001b[39miloc[:, i]\u001b[38;5;241m.\u001b[39mastype(dtype, copy\u001b[38;5;241m=\u001b[39mcopy)\n\u001b[1;32m   6319\u001b[0m         \u001b[38;5;28;01mfor\u001b[39;00m i \u001b[38;5;129;01min\u001b[39;00m \u001b[38;5;28mrange\u001b[39m(\u001b[38;5;28mlen\u001b[39m(\u001b[38;5;28mself\u001b[39m\u001b[38;5;241m.\u001b[39mcolumns))\n\u001b[1;32m   6320\u001b[0m     ]\n\u001b[1;32m   6322\u001b[0m \u001b[38;5;28;01melse\u001b[39;00m:\n\u001b[1;32m   6323\u001b[0m     \u001b[38;5;66;03m# else, only a single dtype is given\u001b[39;00m\n\u001b[0;32m-> 6324\u001b[0m     new_data \u001b[38;5;241m=\u001b[39m \u001b[38;5;28;43mself\u001b[39;49m\u001b[38;5;241;43m.\u001b[39;49m\u001b[43m_mgr\u001b[49m\u001b[38;5;241;43m.\u001b[39;49m\u001b[43mastype\u001b[49m\u001b[43m(\u001b[49m\u001b[43mdtype\u001b[49m\u001b[38;5;241;43m=\u001b[39;49m\u001b[43mdtype\u001b[49m\u001b[43m,\u001b[49m\u001b[43m \u001b[49m\u001b[43mcopy\u001b[49m\u001b[38;5;241;43m=\u001b[39;49m\u001b[43mcopy\u001b[49m\u001b[43m,\u001b[49m\u001b[43m \u001b[49m\u001b[43merrors\u001b[49m\u001b[38;5;241;43m=\u001b[39;49m\u001b[43merrors\u001b[49m\u001b[43m)\u001b[49m\n\u001b[1;32m   6325\u001b[0m     \u001b[38;5;28;01mreturn\u001b[39;00m \u001b[38;5;28mself\u001b[39m\u001b[38;5;241m.\u001b[39m_constructor(new_data)\u001b[38;5;241m.\u001b[39m__finalize__(\u001b[38;5;28mself\u001b[39m, method\u001b[38;5;241m=\u001b[39m\u001b[38;5;124m\"\u001b[39m\u001b[38;5;124mastype\u001b[39m\u001b[38;5;124m\"\u001b[39m)\n\u001b[1;32m   6327\u001b[0m \u001b[38;5;66;03m# GH 33113: handle empty frame or series\u001b[39;00m\n",
      "File \u001b[0;32m~/mandi/lib/python3.8/site-packages/pandas/core/internals/managers.py:451\u001b[0m, in \u001b[0;36mBaseBlockManager.astype\u001b[0;34m(self, dtype, copy, errors)\u001b[0m\n\u001b[1;32m    448\u001b[0m \u001b[38;5;28;01melif\u001b[39;00m using_copy_on_write():\n\u001b[1;32m    449\u001b[0m     copy \u001b[38;5;241m=\u001b[39m \u001b[38;5;28;01mFalse\u001b[39;00m\n\u001b[0;32m--> 451\u001b[0m \u001b[38;5;28;01mreturn\u001b[39;00m \u001b[38;5;28;43mself\u001b[39;49m\u001b[38;5;241;43m.\u001b[39;49m\u001b[43mapply\u001b[49m\u001b[43m(\u001b[49m\n\u001b[1;32m    452\u001b[0m \u001b[43m    \u001b[49m\u001b[38;5;124;43m\"\u001b[39;49m\u001b[38;5;124;43mastype\u001b[39;49m\u001b[38;5;124;43m\"\u001b[39;49m\u001b[43m,\u001b[49m\n\u001b[1;32m    453\u001b[0m \u001b[43m    \u001b[49m\u001b[43mdtype\u001b[49m\u001b[38;5;241;43m=\u001b[39;49m\u001b[43mdtype\u001b[49m\u001b[43m,\u001b[49m\n\u001b[1;32m    454\u001b[0m \u001b[43m    \u001b[49m\u001b[43mcopy\u001b[49m\u001b[38;5;241;43m=\u001b[39;49m\u001b[43mcopy\u001b[49m\u001b[43m,\u001b[49m\n\u001b[1;32m    455\u001b[0m \u001b[43m    \u001b[49m\u001b[43merrors\u001b[49m\u001b[38;5;241;43m=\u001b[39;49m\u001b[43merrors\u001b[49m\u001b[43m,\u001b[49m\n\u001b[1;32m    456\u001b[0m \u001b[43m    \u001b[49m\u001b[43musing_cow\u001b[49m\u001b[38;5;241;43m=\u001b[39;49m\u001b[43musing_copy_on_write\u001b[49m\u001b[43m(\u001b[49m\u001b[43m)\u001b[49m\u001b[43m,\u001b[49m\n\u001b[1;32m    457\u001b[0m \u001b[43m\u001b[49m\u001b[43m)\u001b[49m\n",
      "File \u001b[0;32m~/mandi/lib/python3.8/site-packages/pandas/core/internals/managers.py:352\u001b[0m, in \u001b[0;36mBaseBlockManager.apply\u001b[0;34m(self, f, align_keys, **kwargs)\u001b[0m\n\u001b[1;32m    350\u001b[0m         applied \u001b[38;5;241m=\u001b[39m b\u001b[38;5;241m.\u001b[39mapply(f, \u001b[38;5;241m*\u001b[39m\u001b[38;5;241m*\u001b[39mkwargs)\n\u001b[1;32m    351\u001b[0m     \u001b[38;5;28;01melse\u001b[39;00m:\n\u001b[0;32m--> 352\u001b[0m         applied \u001b[38;5;241m=\u001b[39m \u001b[38;5;28;43mgetattr\u001b[39;49m\u001b[43m(\u001b[49m\u001b[43mb\u001b[49m\u001b[43m,\u001b[49m\u001b[43m \u001b[49m\u001b[43mf\u001b[49m\u001b[43m)\u001b[49m\u001b[43m(\u001b[49m\u001b[38;5;241;43m*\u001b[39;49m\u001b[38;5;241;43m*\u001b[39;49m\u001b[43mkwargs\u001b[49m\u001b[43m)\u001b[49m\n\u001b[1;32m    353\u001b[0m     result_blocks \u001b[38;5;241m=\u001b[39m extend_blocks(applied, result_blocks)\n\u001b[1;32m    355\u001b[0m out \u001b[38;5;241m=\u001b[39m \u001b[38;5;28mtype\u001b[39m(\u001b[38;5;28mself\u001b[39m)\u001b[38;5;241m.\u001b[39mfrom_blocks(result_blocks, \u001b[38;5;28mself\u001b[39m\u001b[38;5;241m.\u001b[39maxes)\n",
      "File \u001b[0;32m~/mandi/lib/python3.8/site-packages/pandas/core/internals/blocks.py:511\u001b[0m, in \u001b[0;36mBlock.astype\u001b[0;34m(self, dtype, copy, errors, using_cow)\u001b[0m\n\u001b[1;32m    491\u001b[0m \u001b[38;5;250m\u001b[39m\u001b[38;5;124;03m\"\"\"\u001b[39;00m\n\u001b[1;32m    492\u001b[0m \u001b[38;5;124;03mCoerce to the new dtype.\u001b[39;00m\n\u001b[1;32m    493\u001b[0m \n\u001b[0;32m   (...)\u001b[0m\n\u001b[1;32m    507\u001b[0m \u001b[38;5;124;03mBlock\u001b[39;00m\n\u001b[1;32m    508\u001b[0m \u001b[38;5;124;03m\"\"\"\u001b[39;00m\n\u001b[1;32m    509\u001b[0m values \u001b[38;5;241m=\u001b[39m \u001b[38;5;28mself\u001b[39m\u001b[38;5;241m.\u001b[39mvalues\n\u001b[0;32m--> 511\u001b[0m new_values \u001b[38;5;241m=\u001b[39m \u001b[43mastype_array_safe\u001b[49m\u001b[43m(\u001b[49m\u001b[43mvalues\u001b[49m\u001b[43m,\u001b[49m\u001b[43m \u001b[49m\u001b[43mdtype\u001b[49m\u001b[43m,\u001b[49m\u001b[43m \u001b[49m\u001b[43mcopy\u001b[49m\u001b[38;5;241;43m=\u001b[39;49m\u001b[43mcopy\u001b[49m\u001b[43m,\u001b[49m\u001b[43m \u001b[49m\u001b[43merrors\u001b[49m\u001b[38;5;241;43m=\u001b[39;49m\u001b[43merrors\u001b[49m\u001b[43m)\u001b[49m\n\u001b[1;32m    513\u001b[0m new_values \u001b[38;5;241m=\u001b[39m maybe_coerce_values(new_values)\n\u001b[1;32m    515\u001b[0m refs \u001b[38;5;241m=\u001b[39m \u001b[38;5;28;01mNone\u001b[39;00m\n",
      "File \u001b[0;32m~/mandi/lib/python3.8/site-packages/pandas/core/dtypes/astype.py:242\u001b[0m, in \u001b[0;36mastype_array_safe\u001b[0;34m(values, dtype, copy, errors)\u001b[0m\n\u001b[1;32m    239\u001b[0m     dtype \u001b[38;5;241m=\u001b[39m dtype\u001b[38;5;241m.\u001b[39mnumpy_dtype\n\u001b[1;32m    241\u001b[0m \u001b[38;5;28;01mtry\u001b[39;00m:\n\u001b[0;32m--> 242\u001b[0m     new_values \u001b[38;5;241m=\u001b[39m \u001b[43mastype_array\u001b[49m\u001b[43m(\u001b[49m\u001b[43mvalues\u001b[49m\u001b[43m,\u001b[49m\u001b[43m \u001b[49m\u001b[43mdtype\u001b[49m\u001b[43m,\u001b[49m\u001b[43m \u001b[49m\u001b[43mcopy\u001b[49m\u001b[38;5;241;43m=\u001b[39;49m\u001b[43mcopy\u001b[49m\u001b[43m)\u001b[49m\n\u001b[1;32m    243\u001b[0m \u001b[38;5;28;01mexcept\u001b[39;00m (\u001b[38;5;167;01mValueError\u001b[39;00m, \u001b[38;5;167;01mTypeError\u001b[39;00m):\n\u001b[1;32m    244\u001b[0m     \u001b[38;5;66;03m# e.g. _astype_nansafe can fail on object-dtype of strings\u001b[39;00m\n\u001b[1;32m    245\u001b[0m     \u001b[38;5;66;03m#  trying to convert to float\u001b[39;00m\n\u001b[1;32m    246\u001b[0m     \u001b[38;5;28;01mif\u001b[39;00m errors \u001b[38;5;241m==\u001b[39m \u001b[38;5;124m\"\u001b[39m\u001b[38;5;124mignore\u001b[39m\u001b[38;5;124m\"\u001b[39m:\n",
      "File \u001b[0;32m~/mandi/lib/python3.8/site-packages/pandas/core/dtypes/astype.py:187\u001b[0m, in \u001b[0;36mastype_array\u001b[0;34m(values, dtype, copy)\u001b[0m\n\u001b[1;32m    184\u001b[0m     values \u001b[38;5;241m=\u001b[39m values\u001b[38;5;241m.\u001b[39mastype(dtype, copy\u001b[38;5;241m=\u001b[39mcopy)\n\u001b[1;32m    186\u001b[0m \u001b[38;5;28;01melse\u001b[39;00m:\n\u001b[0;32m--> 187\u001b[0m     values \u001b[38;5;241m=\u001b[39m \u001b[43m_astype_nansafe\u001b[49m\u001b[43m(\u001b[49m\u001b[43mvalues\u001b[49m\u001b[43m,\u001b[49m\u001b[43m \u001b[49m\u001b[43mdtype\u001b[49m\u001b[43m,\u001b[49m\u001b[43m \u001b[49m\u001b[43mcopy\u001b[49m\u001b[38;5;241;43m=\u001b[39;49m\u001b[43mcopy\u001b[49m\u001b[43m)\u001b[49m\n\u001b[1;32m    189\u001b[0m \u001b[38;5;66;03m# in pandas we don't store numpy str dtypes, so convert to object\u001b[39;00m\n\u001b[1;32m    190\u001b[0m \u001b[38;5;28;01mif\u001b[39;00m \u001b[38;5;28misinstance\u001b[39m(dtype, np\u001b[38;5;241m.\u001b[39mdtype) \u001b[38;5;129;01mand\u001b[39;00m \u001b[38;5;28missubclass\u001b[39m(values\u001b[38;5;241m.\u001b[39mdtype\u001b[38;5;241m.\u001b[39mtype, \u001b[38;5;28mstr\u001b[39m):\n",
      "File \u001b[0;32m~/mandi/lib/python3.8/site-packages/pandas/core/dtypes/astype.py:138\u001b[0m, in \u001b[0;36m_astype_nansafe\u001b[0;34m(arr, dtype, copy, skipna)\u001b[0m\n\u001b[1;32m    134\u001b[0m     \u001b[38;5;28;01mraise\u001b[39;00m \u001b[38;5;167;01mValueError\u001b[39;00m(msg)\n\u001b[1;32m    136\u001b[0m \u001b[38;5;28;01mif\u001b[39;00m copy \u001b[38;5;129;01mor\u001b[39;00m is_object_dtype(arr\u001b[38;5;241m.\u001b[39mdtype) \u001b[38;5;129;01mor\u001b[39;00m is_object_dtype(dtype):\n\u001b[1;32m    137\u001b[0m     \u001b[38;5;66;03m# Explicit copy, or required since NumPy can't view from / to object.\u001b[39;00m\n\u001b[0;32m--> 138\u001b[0m     \u001b[38;5;28;01mreturn\u001b[39;00m \u001b[43marr\u001b[49m\u001b[38;5;241;43m.\u001b[39;49m\u001b[43mastype\u001b[49m\u001b[43m(\u001b[49m\u001b[43mdtype\u001b[49m\u001b[43m,\u001b[49m\u001b[43m \u001b[49m\u001b[43mcopy\u001b[49m\u001b[38;5;241;43m=\u001b[39;49m\u001b[38;5;28;43;01mTrue\u001b[39;49;00m\u001b[43m)\u001b[49m\n\u001b[1;32m    140\u001b[0m \u001b[38;5;28;01mreturn\u001b[39;00m arr\u001b[38;5;241m.\u001b[39mastype(dtype, copy\u001b[38;5;241m=\u001b[39mcopy)\n",
      "\u001b[0;31mValueError\u001b[0m: could not convert string to float: 'B'"
     ]
    }
   ],
   "source": [
    "### Random forest classifier\n",
    "\n",
    "from sklearn.ensemble import RandomForestClassifier\n",
    "from sklearn.metrics import accuracy_score\n",
    "from sklearn.metrics import precision_recall_curve\n",
    "\n",
    "randomforestt= RandomForestClassifier()\n",
    "randomforestt.fit(x_TRAIN,y_TRAIN)\n",
    "y_predict8 = randomforestt.predict(x_TEST)\n",
    "acuracia_randomforestt = round(accuracy_score(y_predict8,y_TEST)*100, 2)\n",
    "print(f'Acuracia de - > {acuracia_randomforestt}')"
   ]
  },
  {
   "cell_type": "code",
   "execution_count": null,
   "metadata": {},
   "outputs": [],
   "source": []
  },
  {
   "cell_type": "code",
   "execution_count": null,
   "metadata": {},
   "outputs": [],
   "source": []
  },
  {
   "cell_type": "code",
   "execution_count": null,
   "metadata": {},
   "outputs": [],
   "source": []
  },
  {
   "cell_type": "code",
   "execution_count": null,
   "metadata": {},
   "outputs": [],
   "source": []
  }
 ],
 "metadata": {
  "kernelspec": {
   "display_name": "mandi",
   "language": "python",
   "name": "python3"
  },
  "language_info": {
   "codemirror_mode": {
    "name": "ipython",
    "version": 3
   },
   "file_extension": ".py",
   "mimetype": "text/x-python",
   "name": "python",
   "nbconvert_exporter": "python",
   "pygments_lexer": "ipython3",
   "version": "3.8.18"
  }
 },
 "nbformat": 4,
 "nbformat_minor": 2
}
