quadro = [" " for i in range (9)]


def impressao_quadro():
    linha1= "|{}|{}|{}|".format(quadro[0],quadro[1],quadro[2])
    linha2= "|{}|{}|{}|".format(quadro[3],quadro[4],quadro[5])
    linha3= "|{}|{}|{}|".format(quadro[6],quadro[7],quadro[8])


    print()
    print(linha1)
    print(linha2)
    print(linha3)
    print()

def movimentacao_jogador(icone):
    
    if icone =="X":
        numero=1
    elif icone=="O":
        numero=2
    print("sua vez de jogar, jogador {} ".format(numero))
    
    escolha= int (input("Faça seu movimento entre (1-9): ").strip())
    if quadro[escolha -1]==" ":
        quadro[escolha - 1] = icone
    else:
        print()
        print("Este espaçõ está ocupado")

def vitoria(icone):
    if (quadro[0]== icone and quadro[1]== icone and quadro[2]== icone) or\
       (quadro[3]== icone and quadro[4]== icone and quadro[5]== icone) or\
       (quadro[6]== icone and quadro[7]== icone and quadro[8]== icone) or\
       (quadro[0]== icone and quadro[3]== icone and quadro[6]== icone) or\
       (quadro[1]== icone and quadro[4]== icone and quadro[7]== icone) or\
       (quadro[2]== icone and quadro[5]== icone and quadro[8]== icone) or\
       (quadro[0]== icone and quadro[4]== icone and quadro[8]== icone) or\
       (quadro[2]== icone and quadro[4]== icone and quadro[6]== icone):
        return True
    else:
        return False
       
def empate():
    if" " not in quadro:
        return True
    else:
        return False
        
    

while True:
    impressao_quadro()
    movimentacao_jogador("X")
    impressao_quadro()
    if vitoria("X"):
        print("X venceu! PARABENS!")
        break
    elif empate():
        print("Temos um empate!")
        break
    movimentacao_jogador("O")
    if vitoria("O"):
        impressao_quadro()
        print("O venceu! PARABENS!")
        break
    elif empate():
        print("Temos um empate!")
        break
    
    
