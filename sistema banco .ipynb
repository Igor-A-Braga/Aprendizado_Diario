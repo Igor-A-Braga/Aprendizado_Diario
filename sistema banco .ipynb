class Conta:
    def __init__(self,nome,saldo,minimo_saldo):
        self.nome=nome
        self.saldo=saldo
        self.minimo_saldo=minimo_saldo


    def deposito(self,quantia):
        self.saldo+=quantia

    def retirar(self,quantia):
        if self.saldo-quantia>=self.minimo_saldo:
            self.saldo-=quantia
        else:
            print("não há saldo suficiente")

    def extrato(self):
        print("Saldo atual da conta é:{}  R$".format(self.saldo))


class Corrente(Conta):
    def __init__(self,nome,saldo):
        super().__init__(nome,saldo,minimo_saldo=-1000)

    def __str__(self):
        return "Ola {},O saldo desta conta corrente é {}R$".format(self.nome,self.saldo)

class Poupança(Conta):
    def __init__(self,nome,saldo):
        super().__init__(nome,saldo,minimo_saldo=0)

    def __str__(self):
        return"Olá {},O saldo desta conta poupança é {}R$".format(self.nome,self.saldo)

        
        
        
        
