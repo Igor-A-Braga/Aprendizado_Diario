vogais = 0
consoantes = 0

for letra in "asjbsajhbsauhbsajhbjashjsabaseiou":
    if letra.lower() in "aeiou":
        vogais= vogais + 1
    elif letra =="":
        pass
    else:
        consoantes = consoantes + 1

print(" temos {} vogais na frase digitada a cima".format(vogais))
print("temos {} consoantes na frase digitada a cima".format(consoantes))
