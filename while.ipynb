{
 "cells": [
  {
   "cell_type": "code",
   "execution_count": 4,
   "metadata": {},
   "outputs": [
    {
     "name": "stdout",
     "output_type": "stream",
     "text": [
      "digite o seu nome\n",
      "Bem vindo igor\n",
      "digite o seu nome\n",
      "Ate logo ! \n"
     ]
    }
   ],
   "source": [
    "nome = None\n",
    "\n",
    "while(True):\n",
    "    print('digite o seu nome')\n",
    "    nome = input()\n",
    "    if nome == 'x' or nome=='X':\n",
    "        break\n",
    "    print('Bem vindo',nome)\n",
    "print('Ate logo ! ')"
   ]
  },
  {
   "cell_type": "code",
   "execution_count": null,
   "metadata": {},
   "outputs": [],
   "source": []
  }
 ],
 "metadata": {
  "kernelspec": {
   "display_name": "mandi",
   "language": "python",
   "name": "python3"
  },
  "language_info": {
   "codemirror_mode": {
    "name": "ipython",
    "version": 3
   },
   "file_extension": ".py",
   "mimetype": "text/x-python",
   "name": "python",
   "nbconvert_exporter": "python",
   "pygments_lexer": "ipython3",
   "version": "3.8.18"
  }
 },
 "nbformat": 4,
 "nbformat_minor": 2
}
