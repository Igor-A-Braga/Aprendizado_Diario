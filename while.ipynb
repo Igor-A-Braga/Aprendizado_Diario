{
 "cells": [
  {
   "cell_type": "code",
   "execution_count": 4,
   "metadata": {},
   "outputs": [
    {
     "name": "stdout",
     "output_type": "stream",
     "text": [
      "digite o seu nome\n",
      "Bem vindo igor\n",
      "digite o seu nome\n",
      "Ate logo ! \n"
     ]
    }
   ],
   "source": [
    "nome = None\n",
    "\n",
    "while(True):\n",
    "    print('digite o seu nome')\n",
    "    nome = input()\n",
    "    if nome == 'x' or nome=='X':\n",
    "        break\n",
    "    print('Bem vindo',nome)\n",
    "print('Ate logo ! ')"
   ]
  },
  {
   "cell_type": "code",
   "execution_count": 1,
   "metadata": {},
   "outputs": [
    {
     "name": "stdout",
     "output_type": "stream",
     "text": [
      "5\n",
      "4\n",
      "3\n",
      "2\n",
      "1\n"
     ]
    }
   ],
   "source": [
    "def countdown(n):\n",
    "\n",
    "    while n > 0:\n",
    "        print(n)\n",
    "        n-=1\n",
    "        \n",
    "        \n",
    "\n",
    "countdown(5)"
   ]
  },
  {
   "cell_type": "code",
   "execution_count": 3,
   "metadata": {},
   "outputs": [
    {
     "name": "stdout",
     "output_type": "stream",
     "text": [
      "1\n",
      "3\n",
      "5\n",
      "7\n",
      "9\n",
      "11\n",
      "13\n",
      "15\n",
      "17\n",
      "19\n",
      "21\n",
      "23\n",
      "25\n",
      "27\n",
      "29\n",
      "31\n",
      "33\n",
      "35\n",
      "37\n",
      "39\n",
      "41\n",
      "43\n",
      "45\n",
      "47\n",
      "49\n",
      "51\n",
      "53\n",
      "55\n",
      "57\n",
      "59\n",
      "61\n",
      "63\n",
      "65\n",
      "67\n",
      "69\n",
      "71\n",
      "73\n",
      "75\n",
      "77\n",
      "79\n",
      "81\n",
      "83\n",
      "85\n",
      "87\n",
      "89\n",
      "91\n",
      "93\n",
      "95\n",
      "97\n",
      "99\n"
     ]
    }
   ],
   "source": [
    "def print_odd_numbers():\n",
    "    i = 1\n",
    "    while i <= 100:\n",
    "        print(i)\n",
    "        i += 2\n",
    "\n",
    "print_odd_numbers()\n"
   ]
  },
  {
   "cell_type": "code",
   "execution_count": 5,
   "metadata": {},
   "outputs": [
    {
     "name": "stdout",
     "output_type": "stream",
     "text": [
      "0\n",
      "1\n",
      "2\n",
      "3\n",
      "4\n"
     ]
    }
   ],
   "source": [
    "def print_numbers():\n",
    "    i = 0\n",
    "    while i < 5:\n",
    "        print(i)\n",
    "        i += 1\n",
    "\n",
    "print_numbers()\n"
   ]
  },
  {
   "cell_type": "code",
   "execution_count": 6,
   "metadata": {},
   "outputs": [
    {
     "name": "stdout",
     "output_type": "stream",
     "text": [
      "0\n",
      "1\n",
      "2\n",
      "3\n",
      "4\n"
     ]
    }
   ],
   "source": [
    "def print_numbers():\n",
    "    for i in range (5):\n",
    "        print(i)\n",
    "\n",
    "print_numbers()\n"
   ]
  },
  {
   "cell_type": "code",
   "execution_count": 7,
   "metadata": {},
   "outputs": [
    {
     "name": "stdout",
     "output_type": "stream",
     "text": [
      "1\n",
      "2\n",
      "3\n",
      "4\n"
     ]
    }
   ],
   "source": []
  },
  {
   "cell_type": "code",
   "execution_count": 12,
   "metadata": {},
   "outputs": [
    {
     "name": "stdout",
     "output_type": "stream",
     "text": [
      "1\n",
      "2\n",
      "3\n",
      "4\n",
      "6\n",
      "7\n"
     ]
    }
   ],
   "source": [
    "for i in range(1, 11):\n",
    "    if i == 5:\n",
    "        continue\n",
    "    elif i > 7:\n",
    "        break\n",
    "    print(i)\n"
   ]
  },
  {
   "cell_type": "code",
   "execution_count": 17,
   "metadata": {},
   "outputs": [
    {
     "name": "stdout",
     "output_type": "stream",
     "text": [
      "First element: 1\n",
      "Last element: 5\n"
     ]
    }
   ],
   "source": [
    "# List of numbers\n",
    "numbers = [1, 2, 3, 4, 5]\n",
    "\n",
    "# Print the first and last elements\n",
    "print(f'First element: {numbers[0]}')\n",
    "print(f'Last element: {numbers[4]}')"
   ]
  },
  {
   "cell_type": "code",
   "execution_count": 24,
   "metadata": {},
   "outputs": [
    {
     "name": "stdout",
     "output_type": "stream",
     "text": [
      "['Alice', 'Bob', 'Joe', 'Tom']\n"
     ]
    }
   ],
   "source": [
    "guests = ['Alice', 'Bob', 'Joe', 'Tom']\n",
    "guests.append('igor')\n",
    "guests.remove('igor')\n",
    "print(guests)"
   ]
  },
  {
   "cell_type": "code",
   "execution_count": 25,
   "metadata": {},
   "outputs": [
    {
     "name": "stdout",
     "output_type": "stream",
     "text": [
      "['Alice', 'Bob', 'Tom', 'Jenny']\n"
     ]
    }
   ],
   "source": [
    "guests = ['Alice', 'Bob', 'Joe', 'Tom']\n",
    "guests.append('Jenny')\n",
    "guests.remove('Joe')\n",
    "print(guests)"
   ]
  },
  {
   "cell_type": "code",
   "execution_count": 26,
   "metadata": {},
   "outputs": [
    {
     "name": "stdout",
     "output_type": "stream",
     "text": [
      "['Alice', 'Bob', 'Jenny', 'Tom']\n"
     ]
    }
   ],
   "source": [
    "guests = ['Alice', 'Bob', 'Joe', 'Tom']\n",
    "guests[2]= 'Jenny'\n",
    "print(guests)"
   ]
  },
  {
   "cell_type": "code",
   "execution_count": 29,
   "metadata": {},
   "outputs": [
    {
     "name": "stdout",
     "output_type": "stream",
     "text": [
      "['Alice', 'Bob', 'Fiona', 'Charlie', 'Danny', 'Ella']\n"
     ]
    }
   ],
   "source": [
    "friends = ['Alice', 'Bob', 'Charlie', 'Danny']\n",
    "friends.insert(2, 'Fiona')\n",
    "friends.append('Ella')\n",
    "print(friends)"
   ]
  },
  {
   "cell_type": "code",
   "execution_count": 30,
   "metadata": {},
   "outputs": [
    {
     "name": "stdout",
     "output_type": "stream",
     "text": [
      "{'Hydrochloric Acid': 10, 'Sodium Hydroxide': 5, 'Ethanol': 15}\n"
     ]
    }
   ],
   "source": [
    "inventory = {\"Hydrochloric Acid\": 10, \"Sodium Hydroxide\": 5, \"Hydrogen Peroxide\": 3, \"Ethanol\": 15}\n",
    "del inventory[\"Hydrogen Peroxide\"]\n",
    " \n",
    "print(inventory)\n"
   ]
  },
  {
   "cell_type": "code",
   "execution_count": null,
   "metadata": {},
   "outputs": [],
   "source": []
  }
 ],
 "metadata": {
  "kernelspec": {
   "display_name": "mandi",
   "language": "python",
   "name": "python3"
  },
  "language_info": {
   "codemirror_mode": {
    "name": "ipython",
    "version": 3
   },
   "file_extension": ".py",
   "mimetype": "text/x-python",
   "name": "python",
   "nbconvert_exporter": "python",
   "pygments_lexer": "ipython3",
   "version": "3.9.6"
  }
 },
 "nbformat": 4,
 "nbformat_minor": 2
}
