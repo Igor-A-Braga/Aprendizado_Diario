#pegue o endereço de e-mail do usuario
email = input("insira o seu e-mail a seguir - > ").strip()


#dividir o nome do usuario


user= email [:email.index("@")]



#fatiar nome de dominio


dominio = email [email.index("@")+ 1 :]


#formatar mensagem

output = "Sua username é {} e seu dominio é {}".format(user, dominio)

#exibir mensagem de saida

print(output)





