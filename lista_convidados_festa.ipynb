lista_convidados= ["igor","brunão","aline","jorgão"]

while True:
    print("Olá, me chamo Albert, sou o recepcionista desta festa")
    nome = input ("Qual o seu nome ?").strip().capitalize().lower()

    
    if nome in lista_convidados:
        print("ola {}!".format(nome))
        desejaentrar= input ("Você deseja entrar agora ?").strip().capitalize().lower()
        
        if desejaentrar=="sim":
            print("por favor me siga até seu camarote")
        elif desejaentrar=="nao":
            print(" assim que desejar entrar, é so me chamar!")
        
            

    else:
        print("Perdão {},nao consegui achar seu nome na lista".format(nome))
        
        dado_participante = input ("você gostaria de comprar um convite agora?")
    if dado_participante =="sim":
            dado_participante = input("Otimo, Só preciso saber quantos anos você tem ?")
    if dado_participante >= "20":
            
            print("maravilha, ja fiz o preenchimento e pode entrar")
            
    if dado_participante < "20":
            print("poxa, não consigo permitir a entrada de pessoas que não tenham pelo menos 20 anos")

    elif dado_participante =="nao":
            print("poxa que pena. Até logo !")
          

