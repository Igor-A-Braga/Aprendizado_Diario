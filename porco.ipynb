#pegue uma frase do usuario


original = input ("Ola, por favor digite uma frase a seguir - > ").strip().lower()

#dividir essa frase em palavras

palavras = original.split()




#percorrer todas essas palavras e converte-las em latir de porco

palavras_novas = []

for palavra in palavras:
    if palavra[0] in "aeiou":
        palavra_nova = palavra +"yay"
        palavras_novas.append(palavra_nova)
    else:
        posicao_variavel = 0
        for letras in palavra:
            if letras not in "aeiou":
                posicao_variavel = posicao_variavel +1
            else:
                break
        consoantes = palavra[posicao_variavel]
        o_resto = palavra[posicao_variavel:]
        palavra_nova=o_resto +consoantes + "ay"
        palavras_novas.append(palavra_nova)
        
                
            
        



#se começar com uma vogal,basta adicionar "yay"
#caso contrário, mova o primeiro encontro consoantes para o final e adicione ay


#juntar as palavras em uma frase


mensagem_saida = " ".join(palavras_novas)


#produzir a mensagem de saida
print(mensagem_saida)
